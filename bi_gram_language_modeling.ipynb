{
  "nbformat": 4,
  "nbformat_minor": 0,
  "metadata": {
    "colab": {
      "provenance": []
    },
    "kernelspec": {
      "name": "python3",
      "display_name": "Python 3"
    },
    "language_info": {
      "name": "python"
    }
  },
  "cells": [
    {
      "cell_type": "markdown",
      "source": [
        "# N-gram Language Modeling\n",
        "\n",
        "작은 샘플들을 활용해 N-gram language modeling을 구현해보고, 구현한 N-gram language model로 자동 완성 기능을 이해해보자"
      ],
      "metadata": {
        "id": "hgADc43DF7fA"
      }
    },
    {
      "cell_type": "code",
      "execution_count": 1,
      "metadata": {
        "id": "EMnkz7UeF0l4"
      },
      "outputs": [],
      "source": [
        "corpus = [\"오늘 날씨 어때\",\n",
        "          \"오늘 날씨 어때\",\n",
        "          \"오늘 날씨 어때\",\n",
        "          \"오늘 축구 경기\",\n",
        "          \"오늘 경기 결과\",\n",
        "          \"오늘 경기 결과\",\n",
        "          \"내일 날씨\",\n",
        "          \"내일 축구 경기\",\n",
        "          \"내일 축구 경기\",\n",
        "          \"축구 일정\",\n",
        "          ]"
      ]
    },
    {
      "cell_type": "markdown",
      "source": [
        "# Tokenization"
      ],
      "metadata": {
        "id": "nd2xvrS3GIEa"
      }
    },
    {
      "cell_type": "code",
      "source": [
        "# tokenization\n",
        "vocabs = set()\n",
        "for sample in corpus:\n",
        "    for token in sample.split():\n",
        "        vocabs.add(token)"
      ],
      "metadata": {
        "id": "5tUcPknUF75u"
      },
      "execution_count": 2,
      "outputs": []
    },
    {
      "cell_type": "code",
      "source": [
        "vocabs = list(vocabs)"
      ],
      "metadata": {
        "id": "jHyEot9uGMYJ"
      },
      "execution_count": 3,
      "outputs": []
    },
    {
      "cell_type": "code",
      "source": [
        "vocabs"
      ],
      "metadata": {
        "colab": {
          "base_uri": "https://localhost:8080/"
        },
        "id": "S69bqFFxGNqB",
        "outputId": "b91ca7c6-08c9-47de-b4fb-572928122ce3"
      },
      "execution_count": 4,
      "outputs": [
        {
          "output_type": "execute_result",
          "data": {
            "text/plain": [
              "['결과', '경기', '어때', '일정', '축구', '오늘', '날씨', '내일']"
            ]
          },
          "metadata": {},
          "execution_count": 4
        }
      ]
    },
    {
      "cell_type": "code",
      "source": [
        "idx_to_token = vocabs\n",
        "token_to_idx = {token: idx for idx, token in enumerate(idx_to_token)}"
      ],
      "metadata": {
        "id": "AQtMtYj_GOcR"
      },
      "execution_count": 5,
      "outputs": []
    },
    {
      "cell_type": "code",
      "source": [
        "token_to_idx"
      ],
      "metadata": {
        "colab": {
          "base_uri": "https://localhost:8080/"
        },
        "id": "iGkViY5PGVtJ",
        "outputId": "697f2bbd-f4ae-4745-f25e-c1ed3b29a8de"
      },
      "execution_count": 6,
      "outputs": [
        {
          "output_type": "execute_result",
          "data": {
            "text/plain": [
              "{'결과': 0, '경기': 1, '어때': 2, '일정': 3, '축구': 4, '오늘': 5, '날씨': 6, '내일': 7}"
            ]
          },
          "metadata": {},
          "execution_count": 6
        }
      ]
    },
    {
      "cell_type": "markdown",
      "source": [
        "# Bi-gram language modeling"
      ],
      "metadata": {
        "id": "QMgfW0YnGcc4"
      }
    },
    {
      "cell_type": "code",
      "source": [
        "# bi-gram language modeling은 P(next_token|previsous_token)을 사용하는 모델\n",
        "# 우리는 P(previous token, next_token)의 joint probability distribution을 알 수 있으면\n",
        "# 위의 P(next_token|previsous_token)를 계산하기 쉬움"
      ],
      "metadata": {
        "id": "L8uCwYTlGWgK"
      },
      "execution_count": null,
      "outputs": []
    },
    {
      "cell_type": "code",
      "source": [
        "# 그럼 먼저 P(previous token, next_token)는 어떻게 구할까? \n",
        "# 먼저 카운팅! prvious_token -> next_token에 대한 테이블을 만들어서 카운팅을 수행한다."
      ],
      "metadata": {
        "id": "VAyZ1PpcGjjR"
      },
      "execution_count": null,
      "outputs": []
    },
    {
      "cell_type": "code",
      "source": [
        "prev_token_to_next_token_cnt_table = {}"
      ],
      "metadata": {
        "id": "jAYUom5jG7ub"
      },
      "execution_count": 7,
      "outputs": []
    },
    {
      "cell_type": "code",
      "source": [
        "total_cnt = 0\n",
        "\n",
        "for sample in corpus:\n",
        "    tokens = sample.split()\n",
        "\n",
        "    for prev_token, next_token in zip(tokens[:-1], tokens[1:]):\n",
        "        if prev_token not in prev_token_to_next_token_cnt_table:\n",
        "            prev_token_to_next_token_cnt_table[prev_token] = {}\n",
        "        if next_token not in prev_token_to_next_token_cnt_table[prev_token]:\n",
        "            prev_token_to_next_token_cnt_table[prev_token][next_token] = 0\n",
        "        prev_token_to_next_token_cnt_table[prev_token][next_token] += 1\n",
        "        total_cnt += 1"
      ],
      "metadata": {
        "id": "m3ckXMPzG8AO"
      },
      "execution_count": 8,
      "outputs": []
    },
    {
      "cell_type": "code",
      "source": [
        "prev_token_to_next_token_cnt_table"
      ],
      "metadata": {
        "colab": {
          "base_uri": "https://localhost:8080/"
        },
        "id": "OMBFoMZeG9C1",
        "outputId": "c0759123-fc7c-4522-eddb-6e09137dfb5b"
      },
      "execution_count": 9,
      "outputs": [
        {
          "output_type": "execute_result",
          "data": {
            "text/plain": [
              "{'오늘': {'날씨': 3, '축구': 1, '경기': 2},\n",
              " '날씨': {'어때': 3},\n",
              " '축구': {'경기': 3, '일정': 1},\n",
              " '경기': {'결과': 2},\n",
              " '내일': {'날씨': 1, '축구': 2}}"
            ]
          },
          "metadata": {},
          "execution_count": 9
        }
      ]
    },
    {
      "cell_type": "code",
      "source": [
        "import pandas as pd"
      ],
      "metadata": {
        "id": "OmTf9C2FHGvT"
      },
      "execution_count": 10,
      "outputs": []
    },
    {
      "cell_type": "code",
      "source": [
        "prev_token_to_next_token_table_df = pd.DataFrame(prev_token_to_next_token_cnt_table).transpose()\n",
        "prev_token_to_next_token_table_df.fillna(0,inplace=True)\n",
        "prev_token_to_next_token_table_df\n",
        "# 맨 왼쪽 컬럼이 prev_token, 첫번째 열이 next_token"
      ],
      "metadata": {
        "colab": {
          "base_uri": "https://localhost:8080/",
          "height": 206
        },
        "id": "NHPwhS7dHbsY",
        "outputId": "290e0eca-fd6b-4336-b62a-a0bb69bae95f"
      },
      "execution_count": 14,
      "outputs": [
        {
          "output_type": "execute_result",
          "data": {
            "text/plain": [
              "     날씨   축구   경기   어때   일정   결과\n",
              "오늘  3.0  1.0  2.0  0.0  0.0  0.0\n",
              "날씨  0.0  0.0  0.0  3.0  0.0  0.0\n",
              "축구  0.0  0.0  3.0  0.0  1.0  0.0\n",
              "경기  0.0  0.0  0.0  0.0  0.0  2.0\n",
              "내일  1.0  2.0  0.0  0.0  0.0  0.0"
            ],
            "text/html": [
              "\n",
              "  <div id=\"df-13d8a8cb-a7f1-4585-b13a-80051360eea8\">\n",
              "    <div class=\"colab-df-container\">\n",
              "      <div>\n",
              "<style scoped>\n",
              "    .dataframe tbody tr th:only-of-type {\n",
              "        vertical-align: middle;\n",
              "    }\n",
              "\n",
              "    .dataframe tbody tr th {\n",
              "        vertical-align: top;\n",
              "    }\n",
              "\n",
              "    .dataframe thead th {\n",
              "        text-align: right;\n",
              "    }\n",
              "</style>\n",
              "<table border=\"1\" class=\"dataframe\">\n",
              "  <thead>\n",
              "    <tr style=\"text-align: right;\">\n",
              "      <th></th>\n",
              "      <th>날씨</th>\n",
              "      <th>축구</th>\n",
              "      <th>경기</th>\n",
              "      <th>어때</th>\n",
              "      <th>일정</th>\n",
              "      <th>결과</th>\n",
              "    </tr>\n",
              "  </thead>\n",
              "  <tbody>\n",
              "    <tr>\n",
              "      <th>오늘</th>\n",
              "      <td>3.0</td>\n",
              "      <td>1.0</td>\n",
              "      <td>2.0</td>\n",
              "      <td>0.0</td>\n",
              "      <td>0.0</td>\n",
              "      <td>0.0</td>\n",
              "    </tr>\n",
              "    <tr>\n",
              "      <th>날씨</th>\n",
              "      <td>0.0</td>\n",
              "      <td>0.0</td>\n",
              "      <td>0.0</td>\n",
              "      <td>3.0</td>\n",
              "      <td>0.0</td>\n",
              "      <td>0.0</td>\n",
              "    </tr>\n",
              "    <tr>\n",
              "      <th>축구</th>\n",
              "      <td>0.0</td>\n",
              "      <td>0.0</td>\n",
              "      <td>3.0</td>\n",
              "      <td>0.0</td>\n",
              "      <td>1.0</td>\n",
              "      <td>0.0</td>\n",
              "    </tr>\n",
              "    <tr>\n",
              "      <th>경기</th>\n",
              "      <td>0.0</td>\n",
              "      <td>0.0</td>\n",
              "      <td>0.0</td>\n",
              "      <td>0.0</td>\n",
              "      <td>0.0</td>\n",
              "      <td>2.0</td>\n",
              "    </tr>\n",
              "    <tr>\n",
              "      <th>내일</th>\n",
              "      <td>1.0</td>\n",
              "      <td>2.0</td>\n",
              "      <td>0.0</td>\n",
              "      <td>0.0</td>\n",
              "      <td>0.0</td>\n",
              "      <td>0.0</td>\n",
              "    </tr>\n",
              "  </tbody>\n",
              "</table>\n",
              "</div>\n",
              "      <button class=\"colab-df-convert\" onclick=\"convertToInteractive('df-13d8a8cb-a7f1-4585-b13a-80051360eea8')\"\n",
              "              title=\"Convert this dataframe to an interactive table.\"\n",
              "              style=\"display:none;\">\n",
              "        \n",
              "  <svg xmlns=\"http://www.w3.org/2000/svg\" height=\"24px\"viewBox=\"0 0 24 24\"\n",
              "       width=\"24px\">\n",
              "    <path d=\"M0 0h24v24H0V0z\" fill=\"none\"/>\n",
              "    <path d=\"M18.56 5.44l.94 2.06.94-2.06 2.06-.94-2.06-.94-.94-2.06-.94 2.06-2.06.94zm-11 1L8.5 8.5l.94-2.06 2.06-.94-2.06-.94L8.5 2.5l-.94 2.06-2.06.94zm10 10l.94 2.06.94-2.06 2.06-.94-2.06-.94-.94-2.06-.94 2.06-2.06.94z\"/><path d=\"M17.41 7.96l-1.37-1.37c-.4-.4-.92-.59-1.43-.59-.52 0-1.04.2-1.43.59L10.3 9.45l-7.72 7.72c-.78.78-.78 2.05 0 2.83L4 21.41c.39.39.9.59 1.41.59.51 0 1.02-.2 1.41-.59l7.78-7.78 2.81-2.81c.8-.78.8-2.07 0-2.86zM5.41 20L4 18.59l7.72-7.72 1.47 1.35L5.41 20z\"/>\n",
              "  </svg>\n",
              "      </button>\n",
              "      \n",
              "  <style>\n",
              "    .colab-df-container {\n",
              "      display:flex;\n",
              "      flex-wrap:wrap;\n",
              "      gap: 12px;\n",
              "    }\n",
              "\n",
              "    .colab-df-convert {\n",
              "      background-color: #E8F0FE;\n",
              "      border: none;\n",
              "      border-radius: 50%;\n",
              "      cursor: pointer;\n",
              "      display: none;\n",
              "      fill: #1967D2;\n",
              "      height: 32px;\n",
              "      padding: 0 0 0 0;\n",
              "      width: 32px;\n",
              "    }\n",
              "\n",
              "    .colab-df-convert:hover {\n",
              "      background-color: #E2EBFA;\n",
              "      box-shadow: 0px 1px 2px rgba(60, 64, 67, 0.3), 0px 1px 3px 1px rgba(60, 64, 67, 0.15);\n",
              "      fill: #174EA6;\n",
              "    }\n",
              "\n",
              "    [theme=dark] .colab-df-convert {\n",
              "      background-color: #3B4455;\n",
              "      fill: #D2E3FC;\n",
              "    }\n",
              "\n",
              "    [theme=dark] .colab-df-convert:hover {\n",
              "      background-color: #434B5C;\n",
              "      box-shadow: 0px 1px 3px 1px rgba(0, 0, 0, 0.15);\n",
              "      filter: drop-shadow(0px 1px 2px rgba(0, 0, 0, 0.3));\n",
              "      fill: #FFFFFF;\n",
              "    }\n",
              "  </style>\n",
              "\n",
              "      <script>\n",
              "        const buttonEl =\n",
              "          document.querySelector('#df-13d8a8cb-a7f1-4585-b13a-80051360eea8 button.colab-df-convert');\n",
              "        buttonEl.style.display =\n",
              "          google.colab.kernel.accessAllowed ? 'block' : 'none';\n",
              "\n",
              "        async function convertToInteractive(key) {\n",
              "          const element = document.querySelector('#df-13d8a8cb-a7f1-4585-b13a-80051360eea8');\n",
              "          const dataTable =\n",
              "            await google.colab.kernel.invokeFunction('convertToInteractive',\n",
              "                                                     [key], {});\n",
              "          if (!dataTable) return;\n",
              "\n",
              "          const docLinkHtml = 'Like what you see? Visit the ' +\n",
              "            '<a target=\"_blank\" href=https://colab.research.google.com/notebooks/data_table.ipynb>data table notebook</a>'\n",
              "            + ' to learn more about interactive tables.';\n",
              "          element.innerHTML = '';\n",
              "          dataTable['output_type'] = 'display_data';\n",
              "          await google.colab.output.renderOutput(dataTable, element);\n",
              "          const docLink = document.createElement('div');\n",
              "          docLink.innerHTML = docLinkHtml;\n",
              "          element.appendChild(docLink);\n",
              "        }\n",
              "      </script>\n",
              "    </div>\n",
              "  </div>\n",
              "  "
            ]
          },
          "metadata": {},
          "execution_count": 14
        }
      ]
    },
    {
      "cell_type": "code",
      "source": [
        "prev_token_to_next_token_join_prob_table_df = prev_token_to_next_token_table_df / total_cnt\n",
        "marginal_prob = prev_token_to_next_token_join_prob_table_df.sum(axis=1)"
      ],
      "metadata": {
        "id": "AxJEW830Hdgb"
      },
      "execution_count": 16,
      "outputs": []
    },
    {
      "cell_type": "code",
      "source": [
        "marginal_prob # marginal probabilty -> P(prev_token)"
      ],
      "metadata": {
        "colab": {
          "base_uri": "https://localhost:8080/"
        },
        "id": "qOzcxfyOIoDm",
        "outputId": "5373403c-cb31-4d1c-baa3-1e1212e71869"
      },
      "execution_count": 17,
      "outputs": [
        {
          "output_type": "execute_result",
          "data": {
            "text/plain": [
              "오늘    0.333333\n",
              "날씨    0.166667\n",
              "축구    0.222222\n",
              "경기    0.111111\n",
              "내일    0.166667\n",
              "dtype: float64"
            ]
          },
          "metadata": {},
          "execution_count": 17
        }
      ]
    },
    {
      "cell_type": "code",
      "source": [
        "prev_token_to_next_token_cond_prob_table_df = prev_token_to_next_token_join_prob_table_df.copy()"
      ],
      "metadata": {
        "id": "qR88EAFpIsAr"
      },
      "execution_count": 21,
      "outputs": []
    },
    {
      "cell_type": "code",
      "source": [
        "for row_name, row in prev_token_to_next_token_join_prob_table_df.iterrows():\n",
        "    for col_name, val in row.iteritems():\n",
        "        prev_token_to_next_token_cond_prob_table_df.loc[row_name, col_name] /= marginal_prob[row_name]\n",
        "\n",
        "prev_token_to_next_token_cond_prob_table_df        "
      ],
      "metadata": {
        "colab": {
          "base_uri": "https://localhost:8080/",
          "height": 215
        },
        "id": "ZXRmAcMxIvJC",
        "outputId": "dc11f90d-3430-4b8b-c2be-af4ade41d8be"
      },
      "execution_count": 22,
      "outputs": [
        {
          "output_type": "execute_result",
          "data": {
            "text/plain": [
              "          날씨        축구        경기   어때    일정   결과\n",
              "오늘  0.500000  0.166667  0.333333  0.0  0.00  0.0\n",
              "날씨  0.000000  0.000000  0.000000  1.0  0.00  0.0\n",
              "축구  0.000000  0.000000  0.750000  0.0  0.25  0.0\n",
              "경기  0.000000  0.000000  0.000000  0.0  0.00  1.0\n",
              "내일  0.333333  0.666667  0.000000  0.0  0.00  0.0"
            ],
            "text/html": [
              "\n",
              "  <div id=\"df-0037bbbb-483c-45af-8ae9-63250f95e5ed\">\n",
              "    <div class=\"colab-df-container\">\n",
              "      <div>\n",
              "<style scoped>\n",
              "    .dataframe tbody tr th:only-of-type {\n",
              "        vertical-align: middle;\n",
              "    }\n",
              "\n",
              "    .dataframe tbody tr th {\n",
              "        vertical-align: top;\n",
              "    }\n",
              "\n",
              "    .dataframe thead th {\n",
              "        text-align: right;\n",
              "    }\n",
              "</style>\n",
              "<table border=\"1\" class=\"dataframe\">\n",
              "  <thead>\n",
              "    <tr style=\"text-align: right;\">\n",
              "      <th></th>\n",
              "      <th>날씨</th>\n",
              "      <th>축구</th>\n",
              "      <th>경기</th>\n",
              "      <th>어때</th>\n",
              "      <th>일정</th>\n",
              "      <th>결과</th>\n",
              "    </tr>\n",
              "  </thead>\n",
              "  <tbody>\n",
              "    <tr>\n",
              "      <th>오늘</th>\n",
              "      <td>0.500000</td>\n",
              "      <td>0.166667</td>\n",
              "      <td>0.333333</td>\n",
              "      <td>0.0</td>\n",
              "      <td>0.00</td>\n",
              "      <td>0.0</td>\n",
              "    </tr>\n",
              "    <tr>\n",
              "      <th>날씨</th>\n",
              "      <td>0.000000</td>\n",
              "      <td>0.000000</td>\n",
              "      <td>0.000000</td>\n",
              "      <td>1.0</td>\n",
              "      <td>0.00</td>\n",
              "      <td>0.0</td>\n",
              "    </tr>\n",
              "    <tr>\n",
              "      <th>축구</th>\n",
              "      <td>0.000000</td>\n",
              "      <td>0.000000</td>\n",
              "      <td>0.750000</td>\n",
              "      <td>0.0</td>\n",
              "      <td>0.25</td>\n",
              "      <td>0.0</td>\n",
              "    </tr>\n",
              "    <tr>\n",
              "      <th>경기</th>\n",
              "      <td>0.000000</td>\n",
              "      <td>0.000000</td>\n",
              "      <td>0.000000</td>\n",
              "      <td>0.0</td>\n",
              "      <td>0.00</td>\n",
              "      <td>1.0</td>\n",
              "    </tr>\n",
              "    <tr>\n",
              "      <th>내일</th>\n",
              "      <td>0.333333</td>\n",
              "      <td>0.666667</td>\n",
              "      <td>0.000000</td>\n",
              "      <td>0.0</td>\n",
              "      <td>0.00</td>\n",
              "      <td>0.0</td>\n",
              "    </tr>\n",
              "  </tbody>\n",
              "</table>\n",
              "</div>\n",
              "      <button class=\"colab-df-convert\" onclick=\"convertToInteractive('df-0037bbbb-483c-45af-8ae9-63250f95e5ed')\"\n",
              "              title=\"Convert this dataframe to an interactive table.\"\n",
              "              style=\"display:none;\">\n",
              "        \n",
              "  <svg xmlns=\"http://www.w3.org/2000/svg\" height=\"24px\"viewBox=\"0 0 24 24\"\n",
              "       width=\"24px\">\n",
              "    <path d=\"M0 0h24v24H0V0z\" fill=\"none\"/>\n",
              "    <path d=\"M18.56 5.44l.94 2.06.94-2.06 2.06-.94-2.06-.94-.94-2.06-.94 2.06-2.06.94zm-11 1L8.5 8.5l.94-2.06 2.06-.94-2.06-.94L8.5 2.5l-.94 2.06-2.06.94zm10 10l.94 2.06.94-2.06 2.06-.94-2.06-.94-.94-2.06-.94 2.06-2.06.94z\"/><path d=\"M17.41 7.96l-1.37-1.37c-.4-.4-.92-.59-1.43-.59-.52 0-1.04.2-1.43.59L10.3 9.45l-7.72 7.72c-.78.78-.78 2.05 0 2.83L4 21.41c.39.39.9.59 1.41.59.51 0 1.02-.2 1.41-.59l7.78-7.78 2.81-2.81c.8-.78.8-2.07 0-2.86zM5.41 20L4 18.59l7.72-7.72 1.47 1.35L5.41 20z\"/>\n",
              "  </svg>\n",
              "      </button>\n",
              "      \n",
              "  <style>\n",
              "    .colab-df-container {\n",
              "      display:flex;\n",
              "      flex-wrap:wrap;\n",
              "      gap: 12px;\n",
              "    }\n",
              "\n",
              "    .colab-df-convert {\n",
              "      background-color: #E8F0FE;\n",
              "      border: none;\n",
              "      border-radius: 50%;\n",
              "      cursor: pointer;\n",
              "      display: none;\n",
              "      fill: #1967D2;\n",
              "      height: 32px;\n",
              "      padding: 0 0 0 0;\n",
              "      width: 32px;\n",
              "    }\n",
              "\n",
              "    .colab-df-convert:hover {\n",
              "      background-color: #E2EBFA;\n",
              "      box-shadow: 0px 1px 2px rgba(60, 64, 67, 0.3), 0px 1px 3px 1px rgba(60, 64, 67, 0.15);\n",
              "      fill: #174EA6;\n",
              "    }\n",
              "\n",
              "    [theme=dark] .colab-df-convert {\n",
              "      background-color: #3B4455;\n",
              "      fill: #D2E3FC;\n",
              "    }\n",
              "\n",
              "    [theme=dark] .colab-df-convert:hover {\n",
              "      background-color: #434B5C;\n",
              "      box-shadow: 0px 1px 3px 1px rgba(0, 0, 0, 0.15);\n",
              "      filter: drop-shadow(0px 1px 2px rgba(0, 0, 0, 0.3));\n",
              "      fill: #FFFFFF;\n",
              "    }\n",
              "  </style>\n",
              "\n",
              "      <script>\n",
              "        const buttonEl =\n",
              "          document.querySelector('#df-0037bbbb-483c-45af-8ae9-63250f95e5ed button.colab-df-convert');\n",
              "        buttonEl.style.display =\n",
              "          google.colab.kernel.accessAllowed ? 'block' : 'none';\n",
              "\n",
              "        async function convertToInteractive(key) {\n",
              "          const element = document.querySelector('#df-0037bbbb-483c-45af-8ae9-63250f95e5ed');\n",
              "          const dataTable =\n",
              "            await google.colab.kernel.invokeFunction('convertToInteractive',\n",
              "                                                     [key], {});\n",
              "          if (!dataTable) return;\n",
              "\n",
              "          const docLinkHtml = 'Like what you see? Visit the ' +\n",
              "            '<a target=\"_blank\" href=https://colab.research.google.com/notebooks/data_table.ipynb>data table notebook</a>'\n",
              "            + ' to learn more about interactive tables.';\n",
              "          element.innerHTML = '';\n",
              "          dataTable['output_type'] = 'display_data';\n",
              "          await google.colab.output.renderOutput(dataTable, element);\n",
              "          const docLink = document.createElement('div');\n",
              "          docLink.innerHTML = docLinkHtml;\n",
              "          element.appendChild(docLink);\n",
              "        }\n",
              "      </script>\n",
              "    </div>\n",
              "  </div>\n",
              "  "
            ]
          },
          "metadata": {},
          "execution_count": 22
        }
      ]
    },
    {
      "cell_type": "markdown",
      "source": [
        "## Bi-gram을 이용한 Naive한 자동 완성 기능"
      ],
      "metadata": {
        "id": "oLqiKe37JNe3"
      }
    },
    {
      "cell_type": "code",
      "source": [
        "x = \"오늘\"\n",
        "\n",
        "# split input\n",
        "input_tokens = x.split()\n",
        "\n",
        "if input_tokens:\n",
        "    last_token = input_tokens[-1]\n",
        "\n",
        "# lookup cond prob distribution\n",
        "prev_token_to_next_token_cond_prob_table_df.loc[last_token]"
      ],
      "metadata": {
        "colab": {
          "base_uri": "https://localhost:8080/"
        },
        "id": "x994h0NCIwPV",
        "outputId": "b0948795-ef8d-4167-a8ee-57355821cb99"
      },
      "execution_count": 23,
      "outputs": [
        {
          "output_type": "execute_result",
          "data": {
            "text/plain": [
              "날씨    0.500000\n",
              "축구    0.166667\n",
              "경기    0.333333\n",
              "어때    0.000000\n",
              "일정    0.000000\n",
              "결과    0.000000\n",
              "Name: 오늘, dtype: float64"
            ]
          },
          "metadata": {},
          "execution_count": 23
        }
      ]
    },
    {
      "cell_type": "code",
      "source": [
        "def suggest(query, depth=2, top_k=2):\n",
        "    # split input\n",
        "    input_tokens = query.split()\n",
        "\n",
        "    if input_tokens:\n",
        "        last_token = input_tokens[-1]\n",
        "    else:\n",
        "        last_token = marginal_prob.sort_values(ascending=False).index[0]\n",
        "    \n",
        "    suggested_list = []\n",
        "    \n",
        "    def dfs(last_token, prev_token_list, depth):\n",
        "        # terminal\n",
        "        if depth <= 0:\n",
        "            return\n",
        "        \n",
        "        # recursion\n",
        "        next_token_candidates = prev_token_to_next_token_cond_prob_table_df.loc[last_token].sort_values(ascending=False)\n",
        "        next_token_candidates = next_token_candidates[next_token_candidates > 0] # 확률이 0 이상인 것만\n",
        "        \n",
        "        last_token_list = next_token_candidates.keys().tolist()[:top_k]\n",
        "\n",
        "        for last_token in last_token_list:\n",
        "            new_suggest = prev_token_list + [last_token]\n",
        "            suggested_list.append(new_suggest)\n",
        "            \n",
        "            if last_token in prev_token_to_next_token_cond_prob_table_df.index:\n",
        "                dfs(last_token, prev_token_list=new_suggest, depth=depth-1)\n",
        "            \n",
        "    dfs(last_token, [last_token], depth)\n",
        "    \n",
        "    # concate tokens\n",
        "    \n",
        "    suggested_list = [ \" \".join(tokens) for tokens in suggested_list]\n",
        "    return suggested_list"
      ],
      "metadata": {
        "id": "0ZCkE2K8Jhxo"
      },
      "execution_count": 24,
      "outputs": []
    },
    {
      "cell_type": "code",
      "source": [
        "suggest(\"축구\", depth=2)"
      ],
      "metadata": {
        "colab": {
          "base_uri": "https://localhost:8080/"
        },
        "id": "Djf3RfQLJj71",
        "outputId": "562c3d0a-cd79-4057-fde6-6307cb75b020"
      },
      "execution_count": 25,
      "outputs": [
        {
          "output_type": "execute_result",
          "data": {
            "text/plain": [
              "['축구 경기', '축구 경기 결과', '축구 일정']"
            ]
          },
          "metadata": {},
          "execution_count": 25
        }
      ]
    },
    {
      "cell_type": "code",
      "source": [],
      "metadata": {
        "id": "iAQeTztVJk_H"
      },
      "execution_count": null,
      "outputs": []
    }
  ]
}