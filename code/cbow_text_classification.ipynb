{
  "nbformat": 4,
  "nbformat_minor": 0,
  "metadata": {
    "colab": {
      "provenance": []
    },
    "kernelspec": {
      "name": "python3",
      "display_name": "Python 3"
    },
    "language_info": {
      "name": "python"
    },
    "accelerator": "GPU",
    "gpuClass": "standard",
    "widgets": {
      "application/vnd.jupyter.widget-state+json": {
        "9e2d404e57ed4ce29b76ca302fa1a61d": {
          "model_module": "@jupyter-widgets/controls",
          "model_name": "HBoxModel",
          "model_module_version": "1.5.0",
          "state": {
            "_dom_classes": [],
            "_model_module": "@jupyter-widgets/controls",
            "_model_module_version": "1.5.0",
            "_model_name": "HBoxModel",
            "_view_count": null,
            "_view_module": "@jupyter-widgets/controls",
            "_view_module_version": "1.5.0",
            "_view_name": "HBoxView",
            "box_style": "",
            "children": [
              "IPY_MODEL_831f87df87fe4f8cb9badd8d4152d348",
              "IPY_MODEL_d84197dcd0524f0388159ca65f0fb297",
              "IPY_MODEL_77ae66c1f1f44c32aaaf9ebde9b1929b"
            ],
            "layout": "IPY_MODEL_c3a409fad54b49018cc634710ec69cd4"
          }
        },
        "831f87df87fe4f8cb9badd8d4152d348": {
          "model_module": "@jupyter-widgets/controls",
          "model_name": "HTMLModel",
          "model_module_version": "1.5.0",
          "state": {
            "_dom_classes": [],
            "_model_module": "@jupyter-widgets/controls",
            "_model_module_version": "1.5.0",
            "_model_name": "HTMLModel",
            "_view_count": null,
            "_view_module": "@jupyter-widgets/controls",
            "_view_module_version": "1.5.0",
            "_view_name": "HTMLView",
            "description": "",
            "description_tooltip": null,
            "layout": "IPY_MODEL_22a5178ffe2740eda4bb88518b5c9168",
            "placeholder": "​",
            "style": "IPY_MODEL_df6b03b0d54e441f9fd7550df5c943b2",
            "value": ""
          }
        },
        "d84197dcd0524f0388159ca65f0fb297": {
          "model_module": "@jupyter-widgets/controls",
          "model_name": "FloatProgressModel",
          "model_module_version": "1.5.0",
          "state": {
            "_dom_classes": [],
            "_model_module": "@jupyter-widgets/controls",
            "_model_module_version": "1.5.0",
            "_model_name": "FloatProgressModel",
            "_view_count": null,
            "_view_module": "@jupyter-widgets/controls",
            "_view_module_version": "1.5.0",
            "_view_name": "ProgressView",
            "bar_style": "success",
            "description": "",
            "description_tooltip": null,
            "layout": "IPY_MODEL_d2d32718fef3483d901918e8427fb097",
            "max": 39,
            "min": 0,
            "orientation": "horizontal",
            "style": "IPY_MODEL_cac348256e1545789a1ba7247eb5f5b9",
            "value": 39
          }
        },
        "77ae66c1f1f44c32aaaf9ebde9b1929b": {
          "model_module": "@jupyter-widgets/controls",
          "model_name": "HTMLModel",
          "model_module_version": "1.5.0",
          "state": {
            "_dom_classes": [],
            "_model_module": "@jupyter-widgets/controls",
            "_model_module_version": "1.5.0",
            "_model_name": "HTMLModel",
            "_view_count": null,
            "_view_module": "@jupyter-widgets/controls",
            "_view_module_version": "1.5.0",
            "_view_name": "HTMLView",
            "description": "",
            "description_tooltip": null,
            "layout": "IPY_MODEL_bba028a0197248bf8a7c9be1351fa4da",
            "placeholder": "​",
            "style": "IPY_MODEL_68da05a087ab44e2b7fb415cee369f41",
            "value": " 40/? [00:00&lt;00:00, 65.57it/s]"
          }
        },
        "c3a409fad54b49018cc634710ec69cd4": {
          "model_module": "@jupyter-widgets/base",
          "model_name": "LayoutModel",
          "model_module_version": "1.2.0",
          "state": {
            "_model_module": "@jupyter-widgets/base",
            "_model_module_version": "1.2.0",
            "_model_name": "LayoutModel",
            "_view_count": null,
            "_view_module": "@jupyter-widgets/base",
            "_view_module_version": "1.2.0",
            "_view_name": "LayoutView",
            "align_content": null,
            "align_items": null,
            "align_self": null,
            "border": null,
            "bottom": null,
            "display": null,
            "flex": null,
            "flex_flow": null,
            "grid_area": null,
            "grid_auto_columns": null,
            "grid_auto_flow": null,
            "grid_auto_rows": null,
            "grid_column": null,
            "grid_gap": null,
            "grid_row": null,
            "grid_template_areas": null,
            "grid_template_columns": null,
            "grid_template_rows": null,
            "height": null,
            "justify_content": null,
            "justify_items": null,
            "left": null,
            "margin": null,
            "max_height": null,
            "max_width": null,
            "min_height": null,
            "min_width": null,
            "object_fit": null,
            "object_position": null,
            "order": null,
            "overflow": null,
            "overflow_x": null,
            "overflow_y": null,
            "padding": null,
            "right": null,
            "top": null,
            "visibility": null,
            "width": null
          }
        },
        "22a5178ffe2740eda4bb88518b5c9168": {
          "model_module": "@jupyter-widgets/base",
          "model_name": "LayoutModel",
          "model_module_version": "1.2.0",
          "state": {
            "_model_module": "@jupyter-widgets/base",
            "_model_module_version": "1.2.0",
            "_model_name": "LayoutModel",
            "_view_count": null,
            "_view_module": "@jupyter-widgets/base",
            "_view_module_version": "1.2.0",
            "_view_name": "LayoutView",
            "align_content": null,
            "align_items": null,
            "align_self": null,
            "border": null,
            "bottom": null,
            "display": null,
            "flex": null,
            "flex_flow": null,
            "grid_area": null,
            "grid_auto_columns": null,
            "grid_auto_flow": null,
            "grid_auto_rows": null,
            "grid_column": null,
            "grid_gap": null,
            "grid_row": null,
            "grid_template_areas": null,
            "grid_template_columns": null,
            "grid_template_rows": null,
            "height": null,
            "justify_content": null,
            "justify_items": null,
            "left": null,
            "margin": null,
            "max_height": null,
            "max_width": null,
            "min_height": null,
            "min_width": null,
            "object_fit": null,
            "object_position": null,
            "order": null,
            "overflow": null,
            "overflow_x": null,
            "overflow_y": null,
            "padding": null,
            "right": null,
            "top": null,
            "visibility": null,
            "width": null
          }
        },
        "df6b03b0d54e441f9fd7550df5c943b2": {
          "model_module": "@jupyter-widgets/controls",
          "model_name": "DescriptionStyleModel",
          "model_module_version": "1.5.0",
          "state": {
            "_model_module": "@jupyter-widgets/controls",
            "_model_module_version": "1.5.0",
            "_model_name": "DescriptionStyleModel",
            "_view_count": null,
            "_view_module": "@jupyter-widgets/base",
            "_view_module_version": "1.2.0",
            "_view_name": "StyleView",
            "description_width": ""
          }
        },
        "d2d32718fef3483d901918e8427fb097": {
          "model_module": "@jupyter-widgets/base",
          "model_name": "LayoutModel",
          "model_module_version": "1.2.0",
          "state": {
            "_model_module": "@jupyter-widgets/base",
            "_model_module_version": "1.2.0",
            "_model_name": "LayoutModel",
            "_view_count": null,
            "_view_module": "@jupyter-widgets/base",
            "_view_module_version": "1.2.0",
            "_view_name": "LayoutView",
            "align_content": null,
            "align_items": null,
            "align_self": null,
            "border": null,
            "bottom": null,
            "display": null,
            "flex": null,
            "flex_flow": null,
            "grid_area": null,
            "grid_auto_columns": null,
            "grid_auto_flow": null,
            "grid_auto_rows": null,
            "grid_column": null,
            "grid_gap": null,
            "grid_row": null,
            "grid_template_areas": null,
            "grid_template_columns": null,
            "grid_template_rows": null,
            "height": null,
            "justify_content": null,
            "justify_items": null,
            "left": null,
            "margin": null,
            "max_height": null,
            "max_width": null,
            "min_height": null,
            "min_width": null,
            "object_fit": null,
            "object_position": null,
            "order": null,
            "overflow": null,
            "overflow_x": null,
            "overflow_y": null,
            "padding": null,
            "right": null,
            "top": null,
            "visibility": null,
            "width": null
          }
        },
        "cac348256e1545789a1ba7247eb5f5b9": {
          "model_module": "@jupyter-widgets/controls",
          "model_name": "ProgressStyleModel",
          "model_module_version": "1.5.0",
          "state": {
            "_model_module": "@jupyter-widgets/controls",
            "_model_module_version": "1.5.0",
            "_model_name": "ProgressStyleModel",
            "_view_count": null,
            "_view_module": "@jupyter-widgets/base",
            "_view_module_version": "1.2.0",
            "_view_name": "StyleView",
            "bar_color": null,
            "description_width": ""
          }
        },
        "bba028a0197248bf8a7c9be1351fa4da": {
          "model_module": "@jupyter-widgets/base",
          "model_name": "LayoutModel",
          "model_module_version": "1.2.0",
          "state": {
            "_model_module": "@jupyter-widgets/base",
            "_model_module_version": "1.2.0",
            "_model_name": "LayoutModel",
            "_view_count": null,
            "_view_module": "@jupyter-widgets/base",
            "_view_module_version": "1.2.0",
            "_view_name": "LayoutView",
            "align_content": null,
            "align_items": null,
            "align_self": null,
            "border": null,
            "bottom": null,
            "display": null,
            "flex": null,
            "flex_flow": null,
            "grid_area": null,
            "grid_auto_columns": null,
            "grid_auto_flow": null,
            "grid_auto_rows": null,
            "grid_column": null,
            "grid_gap": null,
            "grid_row": null,
            "grid_template_areas": null,
            "grid_template_columns": null,
            "grid_template_rows": null,
            "height": null,
            "justify_content": null,
            "justify_items": null,
            "left": null,
            "margin": null,
            "max_height": null,
            "max_width": null,
            "min_height": null,
            "min_width": null,
            "object_fit": null,
            "object_position": null,
            "order": null,
            "overflow": null,
            "overflow_x": null,
            "overflow_y": null,
            "padding": null,
            "right": null,
            "top": null,
            "visibility": null,
            "width": null
          }
        },
        "68da05a087ab44e2b7fb415cee369f41": {
          "model_module": "@jupyter-widgets/controls",
          "model_name": "DescriptionStyleModel",
          "model_module_version": "1.5.0",
          "state": {
            "_model_module": "@jupyter-widgets/controls",
            "_model_module_version": "1.5.0",
            "_model_name": "DescriptionStyleModel",
            "_view_count": null,
            "_view_module": "@jupyter-widgets/base",
            "_view_module_version": "1.2.0",
            "_view_name": "StyleView",
            "description_width": ""
          }
        }
      }
    }
  },
  "cells": [
    {
      "cell_type": "code",
      "execution_count": 1,
      "metadata": {
        "colab": {
          "base_uri": "https://localhost:8080/"
        },
        "id": "5IW9SzFR_6qW",
        "outputId": "e06def39-b43d-4372-de61-80805fb1c14f"
      },
      "outputs": [
        {
          "output_type": "stream",
          "name": "stdout",
          "text": [
            "Mounted at /content/drive\n"
          ]
        }
      ],
      "source": [
        "from google.colab import drive\n",
        "drive.mount('/content/drive')"
      ]
    },
    {
      "cell_type": "code",
      "source": [
        "import pandas as pd"
      ],
      "metadata": {
        "id": "B6fszVpFBZEK"
      },
      "execution_count": 2,
      "outputs": []
    },
    {
      "cell_type": "code",
      "source": [
        "df = pd.read_csv('/content/drive/MyDrive/Colab_Notebooks/NLP/data/ratings_train.txt', sep='\\t')"
      ],
      "metadata": {
        "id": "sS8Lj2LkB8TL"
      },
      "execution_count": 6,
      "outputs": []
    },
    {
      "cell_type": "code",
      "source": [
        "df.head()"
      ],
      "metadata": {
        "colab": {
          "base_uri": "https://localhost:8080/",
          "height": 206
        },
        "id": "FcvoDDgIB_OT",
        "outputId": "4a8997af-3622-4a66-aa73-7f34b2f4d0e5"
      },
      "execution_count": 7,
      "outputs": [
        {
          "output_type": "execute_result",
          "data": {
            "text/plain": [
              "         id                                           document  label\n",
              "0   9976970                                아 더빙.. 진짜 짜증나네요 목소리      0\n",
              "1   3819312                  흠...포스터보고 초딩영화줄....오버연기조차 가볍지 않구나      1\n",
              "2  10265843                                  너무재밓었다그래서보는것을추천한다      0\n",
              "3   9045019                      교도소 이야기구먼 ..솔직히 재미는 없다..평점 조정      0\n",
              "4   6483659  사이몬페그의 익살스런 연기가 돋보였던 영화!스파이더맨에서 늙어보이기만 했던 커스틴 ...      1"
            ],
            "text/html": [
              "\n",
              "  <div id=\"df-81631af6-a8d8-47b2-9d14-b79652c289cb\">\n",
              "    <div class=\"colab-df-container\">\n",
              "      <div>\n",
              "<style scoped>\n",
              "    .dataframe tbody tr th:only-of-type {\n",
              "        vertical-align: middle;\n",
              "    }\n",
              "\n",
              "    .dataframe tbody tr th {\n",
              "        vertical-align: top;\n",
              "    }\n",
              "\n",
              "    .dataframe thead th {\n",
              "        text-align: right;\n",
              "    }\n",
              "</style>\n",
              "<table border=\"1\" class=\"dataframe\">\n",
              "  <thead>\n",
              "    <tr style=\"text-align: right;\">\n",
              "      <th></th>\n",
              "      <th>id</th>\n",
              "      <th>document</th>\n",
              "      <th>label</th>\n",
              "    </tr>\n",
              "  </thead>\n",
              "  <tbody>\n",
              "    <tr>\n",
              "      <th>0</th>\n",
              "      <td>9976970</td>\n",
              "      <td>아 더빙.. 진짜 짜증나네요 목소리</td>\n",
              "      <td>0</td>\n",
              "    </tr>\n",
              "    <tr>\n",
              "      <th>1</th>\n",
              "      <td>3819312</td>\n",
              "      <td>흠...포스터보고 초딩영화줄....오버연기조차 가볍지 않구나</td>\n",
              "      <td>1</td>\n",
              "    </tr>\n",
              "    <tr>\n",
              "      <th>2</th>\n",
              "      <td>10265843</td>\n",
              "      <td>너무재밓었다그래서보는것을추천한다</td>\n",
              "      <td>0</td>\n",
              "    </tr>\n",
              "    <tr>\n",
              "      <th>3</th>\n",
              "      <td>9045019</td>\n",
              "      <td>교도소 이야기구먼 ..솔직히 재미는 없다..평점 조정</td>\n",
              "      <td>0</td>\n",
              "    </tr>\n",
              "    <tr>\n",
              "      <th>4</th>\n",
              "      <td>6483659</td>\n",
              "      <td>사이몬페그의 익살스런 연기가 돋보였던 영화!스파이더맨에서 늙어보이기만 했던 커스틴 ...</td>\n",
              "      <td>1</td>\n",
              "    </tr>\n",
              "  </tbody>\n",
              "</table>\n",
              "</div>\n",
              "      <button class=\"colab-df-convert\" onclick=\"convertToInteractive('df-81631af6-a8d8-47b2-9d14-b79652c289cb')\"\n",
              "              title=\"Convert this dataframe to an interactive table.\"\n",
              "              style=\"display:none;\">\n",
              "        \n",
              "  <svg xmlns=\"http://www.w3.org/2000/svg\" height=\"24px\"viewBox=\"0 0 24 24\"\n",
              "       width=\"24px\">\n",
              "    <path d=\"M0 0h24v24H0V0z\" fill=\"none\"/>\n",
              "    <path d=\"M18.56 5.44l.94 2.06.94-2.06 2.06-.94-2.06-.94-.94-2.06-.94 2.06-2.06.94zm-11 1L8.5 8.5l.94-2.06 2.06-.94-2.06-.94L8.5 2.5l-.94 2.06-2.06.94zm10 10l.94 2.06.94-2.06 2.06-.94-2.06-.94-.94-2.06-.94 2.06-2.06.94z\"/><path d=\"M17.41 7.96l-1.37-1.37c-.4-.4-.92-.59-1.43-.59-.52 0-1.04.2-1.43.59L10.3 9.45l-7.72 7.72c-.78.78-.78 2.05 0 2.83L4 21.41c.39.39.9.59 1.41.59.51 0 1.02-.2 1.41-.59l7.78-7.78 2.81-2.81c.8-.78.8-2.07 0-2.86zM5.41 20L4 18.59l7.72-7.72 1.47 1.35L5.41 20z\"/>\n",
              "  </svg>\n",
              "      </button>\n",
              "      \n",
              "  <style>\n",
              "    .colab-df-container {\n",
              "      display:flex;\n",
              "      flex-wrap:wrap;\n",
              "      gap: 12px;\n",
              "    }\n",
              "\n",
              "    .colab-df-convert {\n",
              "      background-color: #E8F0FE;\n",
              "      border: none;\n",
              "      border-radius: 50%;\n",
              "      cursor: pointer;\n",
              "      display: none;\n",
              "      fill: #1967D2;\n",
              "      height: 32px;\n",
              "      padding: 0 0 0 0;\n",
              "      width: 32px;\n",
              "    }\n",
              "\n",
              "    .colab-df-convert:hover {\n",
              "      background-color: #E2EBFA;\n",
              "      box-shadow: 0px 1px 2px rgba(60, 64, 67, 0.3), 0px 1px 3px 1px rgba(60, 64, 67, 0.15);\n",
              "      fill: #174EA6;\n",
              "    }\n",
              "\n",
              "    [theme=dark] .colab-df-convert {\n",
              "      background-color: #3B4455;\n",
              "      fill: #D2E3FC;\n",
              "    }\n",
              "\n",
              "    [theme=dark] .colab-df-convert:hover {\n",
              "      background-color: #434B5C;\n",
              "      box-shadow: 0px 1px 3px 1px rgba(0, 0, 0, 0.15);\n",
              "      filter: drop-shadow(0px 1px 2px rgba(0, 0, 0, 0.3));\n",
              "      fill: #FFFFFF;\n",
              "    }\n",
              "  </style>\n",
              "\n",
              "      <script>\n",
              "        const buttonEl =\n",
              "          document.querySelector('#df-81631af6-a8d8-47b2-9d14-b79652c289cb button.colab-df-convert');\n",
              "        buttonEl.style.display =\n",
              "          google.colab.kernel.accessAllowed ? 'block' : 'none';\n",
              "\n",
              "        async function convertToInteractive(key) {\n",
              "          const element = document.querySelector('#df-81631af6-a8d8-47b2-9d14-b79652c289cb');\n",
              "          const dataTable =\n",
              "            await google.colab.kernel.invokeFunction('convertToInteractive',\n",
              "                                                     [key], {});\n",
              "          if (!dataTable) return;\n",
              "\n",
              "          const docLinkHtml = 'Like what you see? Visit the ' +\n",
              "            '<a target=\"_blank\" href=https://colab.research.google.com/notebooks/data_table.ipynb>data table notebook</a>'\n",
              "            + ' to learn more about interactive tables.';\n",
              "          element.innerHTML = '';\n",
              "          dataTable['output_type'] = 'display_data';\n",
              "          await google.colab.output.renderOutput(dataTable, element);\n",
              "          const docLink = document.createElement('div');\n",
              "          docLink.innerHTML = docLinkHtml;\n",
              "          element.appendChild(docLink);\n",
              "        }\n",
              "      </script>\n",
              "    </div>\n",
              "  </div>\n",
              "  "
            ]
          },
          "metadata": {},
          "execution_count": 7
        }
      ]
    },
    {
      "cell_type": "code",
      "source": [
        "df['label'].value_counts()"
      ],
      "metadata": {
        "colab": {
          "base_uri": "https://localhost:8080/"
        },
        "id": "L8Ykw3JlB_lC",
        "outputId": "7d3634b0-dd9f-47b0-c8b4-478ff5e7b5c1"
      },
      "execution_count": 8,
      "outputs": [
        {
          "output_type": "execute_result",
          "data": {
            "text/plain": [
              "0    75173\n",
              "1    74827\n",
              "Name: label, dtype: int64"
            ]
          },
          "metadata": {},
          "execution_count": 8
        }
      ]
    },
    {
      "cell_type": "code",
      "source": [
        "sum(df['document'].isnull())"
      ],
      "metadata": {
        "colab": {
          "base_uri": "https://localhost:8080/"
        },
        "id": "eYTAHTkSCPFB",
        "outputId": "bd4c187d-dae1-4c75-80e4-a99692e07bdb"
      },
      "execution_count": 9,
      "outputs": [
        {
          "output_type": "execute_result",
          "data": {
            "text/plain": [
              "5"
            ]
          },
          "metadata": {},
          "execution_count": 9
        }
      ]
    },
    {
      "cell_type": "code",
      "source": [
        "df = df[~df['document'].isnull()]"
      ],
      "metadata": {
        "id": "IhtfytkJCTD6"
      },
      "execution_count": 10,
      "outputs": []
    },
    {
      "cell_type": "code",
      "source": [
        "sum(df['document'].isnull())"
      ],
      "metadata": {
        "colab": {
          "base_uri": "https://localhost:8080/"
        },
        "id": "ocwdGUkkCVXF",
        "outputId": "6dc5fbe9-797f-4c34-a6d3-f65da59be43e"
      },
      "execution_count": 11,
      "outputs": [
        {
          "output_type": "execute_result",
          "data": {
            "text/plain": [
              "0"
            ]
          },
          "metadata": {},
          "execution_count": 11
        }
      ]
    },
    {
      "cell_type": "code",
      "source": [
        "df['document'].iloc[0].split()"
      ],
      "metadata": {
        "colab": {
          "base_uri": "https://localhost:8080/"
        },
        "id": "SpOV9UcaCWGV",
        "outputId": "c882c23e-95e3-4074-8767-9d0515bd0b34"
      },
      "execution_count": 12,
      "outputs": [
        {
          "output_type": "execute_result",
          "data": {
            "text/plain": [
              "['아', '더빙..', '진짜', '짜증나네요', '목소리']"
            ]
          },
          "metadata": {},
          "execution_count": 12
        }
      ]
    },
    {
      "cell_type": "code",
      "source": [
        "# tokenization\n",
        "vocab = set()\n",
        "for doc in df['document']:\n",
        "    for token in doc.split():\n",
        "        vocab.add(token)"
      ],
      "metadata": {
        "id": "DsMQx0ziCZWN"
      },
      "execution_count": 14,
      "outputs": []
    },
    {
      "cell_type": "code",
      "source": [
        "len(vocab) # 너무 많음"
      ],
      "metadata": {
        "colab": {
          "base_uri": "https://localhost:8080/"
        },
        "id": "mAXu0yY1ChVz",
        "outputId": "e161f567-53de-47f9-d0f7-c1feb1272eeb"
      },
      "execution_count": 15,
      "outputs": [
        {
          "output_type": "execute_result",
          "data": {
            "text/plain": [
              "357862"
            ]
          },
          "metadata": {},
          "execution_count": 15
        }
      ]
    },
    {
      "cell_type": "code",
      "source": [
        "vocab_cnt_dict = {}\n",
        "for doc in df['document']:\n",
        "    for token in doc.split():\n",
        "        if token not in vocab_cnt_dict:\n",
        "            vocab_cnt_dict[token] = 0\n",
        "        vocab_cnt_dict[token] += 1"
      ],
      "metadata": {
        "id": "p67OK41QCkAa"
      },
      "execution_count": 17,
      "outputs": []
    },
    {
      "cell_type": "code",
      "source": [
        "vocab_cnt_list = [(token, cnt) for token, cnt in vocab_cnt_dict.items()]\n",
        "vocab_cnt_list[:10]"
      ],
      "metadata": {
        "colab": {
          "base_uri": "https://localhost:8080/"
        },
        "id": "ePeHiKVlC1H8",
        "outputId": "6018e29b-d45d-4513-a566-f9dc280aea03"
      },
      "execution_count": 19,
      "outputs": [
        {
          "output_type": "execute_result",
          "data": {
            "text/plain": [
              "[('아', 1204),\n",
              " ('더빙..', 2),\n",
              " ('진짜', 5929),\n",
              " ('짜증나네요', 10),\n",
              " ('목소리', 99),\n",
              " ('흠...포스터보고', 1),\n",
              " ('초딩영화줄....오버연기조차', 1),\n",
              " ('가볍지', 17),\n",
              " ('않구나', 2),\n",
              " ('너무재밓었다그래서보는것을추천한다', 1)]"
            ]
          },
          "metadata": {},
          "execution_count": 19
        }
      ]
    },
    {
      "cell_type": "code",
      "source": [
        "top_vocabs = sorted(vocab_cnt_list, key = lambda tup:tup[1], reverse = True)\n",
        "top_vocabs[:10]"
      ],
      "metadata": {
        "colab": {
          "base_uri": "https://localhost:8080/"
        },
        "id": "ss1uOgIOC5yj",
        "outputId": "ed56e190-cdbb-4533-8ec8-3c3b7d8c1a37"
      },
      "execution_count": 21,
      "outputs": [
        {
          "output_type": "execute_result",
          "data": {
            "text/plain": [
              "[('영화', 10825),\n",
              " ('너무', 8239),\n",
              " ('정말', 7791),\n",
              " ('진짜', 5929),\n",
              " ('이', 5059),\n",
              " ('영화.', 3598),\n",
              " ('왜', 3285),\n",
              " ('더', 3260),\n",
              " ('이런', 3249),\n",
              " ('그냥', 3237)]"
            ]
          },
          "metadata": {},
          "execution_count": 21
        }
      ]
    },
    {
      "cell_type": "code",
      "source": [
        "import matplotlib.pyplot as plt\n",
        "import numpy as np"
      ],
      "metadata": {
        "id": "vu4NdAN_DPkO"
      },
      "execution_count": 22,
      "outputs": []
    },
    {
      "cell_type": "code",
      "source": [
        "cnts = [cnt for _, cnt in top_vocabs]"
      ],
      "metadata": {
        "id": "-dyaKtEaDVDx"
      },
      "execution_count": 23,
      "outputs": []
    },
    {
      "cell_type": "code",
      "source": [
        "plt.plot(range(len(cnts)), cnts)"
      ],
      "metadata": {
        "colab": {
          "base_uri": "https://localhost:8080/",
          "height": 282
        },
        "id": "JpqMWMLxDYS0",
        "outputId": "26767f38-8970-47bf-c54e-96240c6327d4"
      },
      "execution_count": 24,
      "outputs": [
        {
          "output_type": "execute_result",
          "data": {
            "text/plain": [
              "[<matplotlib.lines.Line2D at 0x7f37bd7d7f70>]"
            ]
          },
          "metadata": {},
          "execution_count": 24
        },
        {
          "output_type": "display_data",
          "data": {
            "text/plain": [
              "<Figure size 432x288 with 1 Axes>"
            ],
            "image/png": "[encoded data removed]"
          },
          "metadata": {
            "needs_background": "light"
          }
        }
      ]
    },
    {
      "cell_type": "code",
      "source": [
        "np.mean(cnts)"
      ],
      "metadata": {
        "colab": {
          "base_uri": "https://localhost:8080/"
        },
        "id": "DlaKeDZJDbEJ",
        "outputId": "999bfe0b-5732-4237-b677-5343aff83fb5"
      },
      "execution_count": 25,
      "outputs": [
        {
          "output_type": "execute_result",
          "data": {
            "text/plain": [
              "3.1792590439890236"
            ]
          },
          "metadata": {},
          "execution_count": 25
        }
      ]
    },
    {
      "cell_type": "code",
      "source": [
        "n_vocab = sum(np.array(cnts) > 2)\n",
        "n_vocab"
      ],
      "metadata": {
        "colab": {
          "base_uri": "https://localhost:8080/"
        },
        "id": "v_VT1xI-Dnxd",
        "outputId": "a19cb1f3-f2cc-4775-a598-c73d68c858ca"
      },
      "execution_count": 26,
      "outputs": [
        {
          "output_type": "execute_result",
          "data": {
            "text/plain": [
              "42635"
            ]
          },
          "metadata": {},
          "execution_count": 26
        }
      ]
    },
    {
      "cell_type": "code",
      "source": [
        "top_vocabs_truncated = top_vocabs[:n_vocab]"
      ],
      "metadata": {
        "id": "mSruYTdBDdBB"
      },
      "execution_count": 27,
      "outputs": []
    },
    {
      "cell_type": "code",
      "source": [
        "vocabs = [token for token, _ in top_vocabs_truncated]"
      ],
      "metadata": {
        "id": "YiIh7t2xDt_i"
      },
      "execution_count": 28,
      "outputs": []
    },
    {
      "cell_type": "code",
      "source": [
        "vocabs[:5]"
      ],
      "metadata": {
        "colab": {
          "base_uri": "https://localhost:8080/"
        },
        "id": "HHUsdQrRD122",
        "outputId": "2f742fc0-f9fe-44ea-e5ab-2d626b75ba5e"
      },
      "execution_count": 29,
      "outputs": [
        {
          "output_type": "execute_result",
          "data": {
            "text/plain": [
              "['영화', '너무', '정말', '진짜', '이']"
            ]
          },
          "metadata": {},
          "execution_count": 29
        }
      ]
    },
    {
      "cell_type": "markdown",
      "source": [
        "## PAD token UNK token!\n",
        "\n",
        "- UNK token은 Unknown token을 의미한다.\n",
        "- PAD token은 Padding을 위한 token을 의미한다."
      ],
      "metadata": {
        "id": "RTYhQ2wkD8w9"
      }
    },
    {
      "cell_type": "code",
      "source": [
        "unk_token = '[UNK]'\n",
        "unk_token in vocabs"
      ],
      "metadata": {
        "colab": {
          "base_uri": "https://localhost:8080/"
        },
        "id": "5QEZJExMD2nR",
        "outputId": "e589177e-2e84-47ad-b050-9b5761e13118"
      },
      "execution_count": 31,
      "outputs": [
        {
          "output_type": "execute_result",
          "data": {
            "text/plain": [
              "False"
            ]
          },
          "metadata": {},
          "execution_count": 31
        }
      ]
    },
    {
      "cell_type": "code",
      "source": [
        "pad_token = '[PAD]'\n",
        "pad_token in vocabs"
      ],
      "metadata": {
        "colab": {
          "base_uri": "https://localhost:8080/"
        },
        "id": "KaT9wJx2EC9p",
        "outputId": "8226dd14-2cb6-47a7-f40c-fde1b8104116"
      },
      "execution_count": 32,
      "outputs": [
        {
          "output_type": "execute_result",
          "data": {
            "text/plain": [
              "False"
            ]
          },
          "metadata": {},
          "execution_count": 32
        }
      ]
    },
    {
      "cell_type": "code",
      "source": [
        "vocabs.insert(0, unk_token)\n",
        "vocabs.insert(0, pad_token)"
      ],
      "metadata": {
        "id": "iAkxyZ78EFr1"
      },
      "execution_count": 33,
      "outputs": []
    },
    {
      "cell_type": "code",
      "source": [
        "vocabs[:5]"
      ],
      "metadata": {
        "colab": {
          "base_uri": "https://localhost:8080/"
        },
        "id": "ZZdZmESnEK07",
        "outputId": "518301bd-7ed1-4b72-d355-12d9c35e77df"
      },
      "execution_count": 35,
      "outputs": [
        {
          "output_type": "execute_result",
          "data": {
            "text/plain": [
              "['[PAD]', '[UNK]', '영화', '너무', '정말']"
            ]
          },
          "metadata": {},
          "execution_count": 35
        }
      ]
    },
    {
      "cell_type": "code",
      "source": [
        "idx_to_token = vocabs\n",
        "token_to_idx = {token:i for i, token in enumerate(vocabs)}"
      ],
      "metadata": {
        "id": "cHLJdvBzEMAd"
      },
      "execution_count": 42,
      "outputs": []
    },
    {
      "cell_type": "code",
      "source": [
        "class Tokenizer:\n",
        "    def __init__(self, vocabs, use_padding=True, max_padding = 64, pad_token='[PAD]', unk_token='[UNK]'):\n",
        "        self.idx_to_token = vocabs\n",
        "        self.token_to_idx = {token:i for i, token in enumerate(self.idx_to_token)}\n",
        "\n",
        "        self.use_padding = use_padding\n",
        "        self.max_padding = max_padding\n",
        "\n",
        "        self.pad_token = pad_token\n",
        "        self.unk_token = unk_token\n",
        "\n",
        "        self.unk_token_idx = token_to_idx[self.unk_token]\n",
        "        self.pad_token_idx = token_to_idx[self.pad_token]\n",
        "\n",
        "    def __call__(self, x:str):\n",
        "        token_ids = []\n",
        "\n",
        "        token_list = x.split()\n",
        "\n",
        "        for token in token_list:\n",
        "            if token in self.token_to_idx:\n",
        "                token_idx = self.token_to_idx[token]\n",
        "            else:\n",
        "                token_idx = self.unk_token_idx\n",
        "            token_ids.append(token_idx)\n",
        "        if self.use_padding:\n",
        "            token_ids = token_ids[:self.max_padding]\n",
        "            n_pads = self.max_padding - len(token_ids)\n",
        "            token_ids = token_ids + [self.pad_token_idx] * n_pads\n",
        "        return token_ids"
      ],
      "metadata": {
        "id": "eKMgR1O-EZWH"
      },
      "execution_count": 43,
      "outputs": []
    },
    {
      "cell_type": "code",
      "source": [
        "tokenizer = Tokenizer(vocabs, use_padding = False)"
      ],
      "metadata": {
        "id": "bxyxxIBxF7-h"
      },
      "execution_count": 44,
      "outputs": []
    },
    {
      "cell_type": "code",
      "source": [
        "sample = df['document'].iloc[0]\n",
        "print(sample)"
      ],
      "metadata": {
        "colab": {
          "base_uri": "https://localhost:8080/"
        },
        "id": "l_w8iUmRGAVv",
        "outputId": "d55cdc3d-ee66-497f-ea06-50edea7ba755"
      },
      "execution_count": 45,
      "outputs": [
        {
          "output_type": "stream",
          "name": "stdout",
          "text": [
            "아 더빙.. 진짜 짜증나네요 목소리\n"
          ]
        }
      ]
    },
    {
      "cell_type": "code",
      "source": [
        "tokenizer(sample)"
      ],
      "metadata": {
        "colab": {
          "base_uri": "https://localhost:8080/"
        },
        "id": "OrJnOgoyGEHG",
        "outputId": "da86538b-5770-4e3c-b90e-ef7d7520d646"
      },
      "execution_count": 47,
      "outputs": [
        {
          "output_type": "execute_result",
          "data": {
            "text/plain": [
              "[51, 1, 5, 10485, 1064]"
            ]
          },
          "metadata": {},
          "execution_count": 47
        }
      ]
    },
    {
      "cell_type": "code",
      "source": [
        "token_length_list = []\n",
        "for sample in df['document']:\n",
        "    token_length_list.append(len(tokenizer(sample)))"
      ],
      "metadata": {
        "id": "Lym-l2yFGFfA"
      },
      "execution_count": 48,
      "outputs": []
    },
    {
      "cell_type": "code",
      "source": [
        "plt.hist(token_length_list)\n",
        "plt.xlabel(\"token length\")\n",
        "plt.ylabel(\"count\")"
      ],
      "metadata": {
        "colab": {
          "base_uri": "https://localhost:8080/",
          "height": 296
        },
        "id": "dRrE1E82GP3u",
        "outputId": "feda0f95-6ad6-4369-9642-95b3bbc0836a"
      },
      "execution_count": 49,
      "outputs": [
        {
          "output_type": "execute_result",
          "data": {
            "text/plain": [
              "Text(0, 0.5, 'count')"
            ]
          },
          "metadata": {},
          "execution_count": 49
        },
        {
          "output_type": "display_data",
          "data": {
            "text/plain": [
              "<Figure size 432x288 with 1 Axes>"
            ],
            "image/png": "[encoded data removed]"
          },
          "metadata": {
            "needs_background": "light"
          }
        }
      ]
    },
    {
      "cell_type": "code",
      "source": [
        "max(token_length_list)"
      ],
      "metadata": {
        "colab": {
          "base_uri": "https://localhost:8080/"
        },
        "id": "pLk1nIDPGQrF",
        "outputId": "8304c45e-35a1-40d3-839a-c4df7bd24589"
      },
      "execution_count": 50,
      "outputs": [
        {
          "output_type": "execute_result",
          "data": {
            "text/plain": [
              "41"
            ]
          },
          "metadata": {},
          "execution_count": 50
        }
      ]
    },
    {
      "cell_type": "code",
      "source": [
        "tokenizer = Tokenizer(vocabs, use_padding=True, max_padding=50, pad_token='[PAD]', unk_token='[UNK]')"
      ],
      "metadata": {
        "id": "1SwYP3U5GSAj"
      },
      "execution_count": 51,
      "outputs": []
    },
    {
      "cell_type": "code",
      "source": [
        "tokenizer(sample)"
      ],
      "metadata": {
        "colab": {
          "base_uri": "https://localhost:8080/"
        },
        "id": "WmyA2Go4GXRx",
        "outputId": "b665de6a-1f01-46dc-bc3c-0fe49b098d37"
      },
      "execution_count": 52,
      "outputs": [
        {
          "output_type": "execute_result",
          "data": {
            "text/plain": [
              "[201,\n",
              " 2,\n",
              " 3635,\n",
              " 1,\n",
              " 121,\n",
              " 1946,\n",
              " 2,\n",
              " 0,\n",
              " 0,\n",
              " 0,\n",
              " 0,\n",
              " 0,\n",
              " 0,\n",
              " 0,\n",
              " 0,\n",
              " 0,\n",
              " 0,\n",
              " 0,\n",
              " 0,\n",
              " 0,\n",
              " 0,\n",
              " 0,\n",
              " 0,\n",
              " 0,\n",
              " 0,\n",
              " 0,\n",
              " 0,\n",
              " 0,\n",
              " 0,\n",
              " 0,\n",
              " 0,\n",
              " 0,\n",
              " 0,\n",
              " 0,\n",
              " 0,\n",
              " 0,\n",
              " 0,\n",
              " 0,\n",
              " 0,\n",
              " 0,\n",
              " 0,\n",
              " 0,\n",
              " 0,\n",
              " 0,\n",
              " 0,\n",
              " 0,\n",
              " 0,\n",
              " 0,\n",
              " 0,\n",
              " 0]"
            ]
          },
          "metadata": {},
          "execution_count": 52
        }
      ]
    },
    {
      "cell_type": "markdown",
      "source": [
        "# DataLoader"
      ],
      "metadata": {
        "id": "FW_ZxvcUGay9"
      }
    },
    {
      "cell_type": "code",
      "source": [
        "import torch\n",
        "from torch.utils.data import Dataset, DataLoader"
      ],
      "metadata": {
        "id": "0YOApDCLGZST"
      },
      "execution_count": 53,
      "outputs": []
    },
    {
      "cell_type": "code",
      "source": [
        "train_valid_df = pd.read_csv(\"/content/drive/MyDrive/Colab_Notebooks/NLP/data/ratings_train.txt\", sep='\\t')\n",
        "test_df = pd.read_csv(\"/content/drive/MyDrive/Colab_Notebooks/NLP/data/ratings_test.txt\", sep='\\t')"
      ],
      "metadata": {
        "id": "tjCAxERmGgsH"
      },
      "execution_count": 54,
      "outputs": []
    },
    {
      "cell_type": "code",
      "source": [
        "print(f\"# of train valid samples: {len(train_valid_df)}\")\n",
        "print(f\"# of test samples: {len(test_df)}\")"
      ],
      "metadata": {
        "colab": {
          "base_uri": "https://localhost:8080/"
        },
        "id": "e35_tDMRGofk",
        "outputId": "42c50303-072a-4712-d626-f3fe3d359f7f"
      },
      "execution_count": 55,
      "outputs": [
        {
          "output_type": "stream",
          "name": "stdout",
          "text": [
            "# of train valid samples: 150000\n",
            "# of test samples: 50000\n"
          ]
        }
      ]
    },
    {
      "cell_type": "code",
      "source": [
        "train_valid_df = train_valid_df.sample(frac=1.)"
      ],
      "metadata": {
        "id": "EzVFrMBBGprO"
      },
      "execution_count": 56,
      "outputs": []
    },
    {
      "cell_type": "code",
      "source": [
        "train_ratio = 0.8\n",
        "\n",
        "n_train = int(len(train_valid_df) * train_ratio)\n",
        "\n",
        "train_df = train_valid_df[:n_train]\n",
        "valid_df = train_valid_df[n_train:]"
      ],
      "metadata": {
        "id": "6tJqVYjTGq_f"
      },
      "execution_count": 57,
      "outputs": []
    },
    {
      "cell_type": "code",
      "source": [
        "print(f\"# of train samples: {len(train_df)}\")\n",
        "print(f\"# of valid samples: {len(valid_df)}\")\n",
        "print(f\"# of test samples: {len(test_df)}\")"
      ],
      "metadata": {
        "colab": {
          "base_uri": "https://localhost:8080/"
        },
        "id": "MBwiOQ4uGsa_",
        "outputId": "8a4afa2a-e4a6-4fef-d907-df3d6942bf14"
      },
      "execution_count": 58,
      "outputs": [
        {
          "output_type": "stream",
          "name": "stdout",
          "text": [
            "# of train samples: 120000\n",
            "# of valid samples: 30000\n",
            "# of test samples: 50000\n"
          ]
        }
      ]
    },
    {
      "cell_type": "code",
      "source": [
        "train_df = train_df.sample(frac=0.1)\n",
        "valid_df = valid_df.sample(frac=0.1)\n",
        "test_df = test_df.sample(frac=0.1)"
      ],
      "metadata": {
        "id": "eC2X16qzGwrx"
      },
      "execution_count": 59,
      "outputs": []
    },
    {
      "cell_type": "code",
      "source": [
        "class NSMCDataset(Dataset):\n",
        "\n",
        "    def __init__(self, data_df, tokenizer = None):\n",
        "        self.data_df = data_df\n",
        "        self.tokenizer = tokenizer\n",
        "    \n",
        "    def __len__(self):\n",
        "        return len(self.data_df)\n",
        "    \n",
        "    def __getitem__(self, idx):\n",
        "        sample_raw = self.data_df.iloc[idx]\n",
        "        sample = {}\n",
        "\n",
        "        sample['doc'] = str(sample_raw['document'])\n",
        "        sample['label'] = int(sample_raw['label'])\n",
        "\n",
        "        assert sample['label'] in set([0, 1])\n",
        "\n",
        "        if self.tokenizer is not None:\n",
        "            sample['doc_ids'] = self.tokenizer(sample['doc'])\n",
        "        return sample"
      ],
      "metadata": {
        "id": "avbTyZjwGx0M"
      },
      "execution_count": 60,
      "outputs": []
    },
    {
      "cell_type": "code",
      "source": [
        "def collate_fn(batch):\n",
        "    keys = [key for key in batch[0].keys()]\n",
        "    data = {key: [] for key in keys}\n",
        "\n",
        "    for item in batch:\n",
        "        for key in keys:\n",
        "            data[key].append(item[key])\n",
        "    return data"
      ],
      "metadata": {
        "id": "gIbffIS5He1m"
      },
      "execution_count": 173,
      "outputs": []
    },
    {
      "cell_type": "code",
      "source": [
        "train_dataset = NSMCDataset(data_df = train_df, tokenizer = tokenizer)\n",
        "valid_dataset = NSMCDataset(data_df = valid_df, tokenizer = tokenizer)\n",
        "test_dataset = NSMCDataset(data_df = test_df, tokenizer = tokenizer)\n",
        "\n",
        "train_dataloader= DataLoader(train_dataset,\n",
        "                             batch_size=128,\n",
        "                             collate_fn=collate_fn,\n",
        "                             shuffle=True)\n",
        "valid_dataloader= DataLoader(valid_dataset,\n",
        "                             batch_size=128,\n",
        "                             collate_fn=collate_fn,\n",
        "                             shuffle=False)\n",
        "\n",
        "test_dataloader= DataLoader(test_dataset,\n",
        "                            batch_size=128,\n",
        "                            collate_fn=collate_fn,\n",
        "                            shuffle=False)"
      ],
      "metadata": {
        "id": "SFS2BCtHHyAr"
      },
      "execution_count": 174,
      "outputs": []
    },
    {
      "cell_type": "code",
      "source": [
        "sample = next(iter(test_dataloader))"
      ],
      "metadata": {
        "colab": {
          "base_uri": "https://localhost:8080/"
        },
        "id": "lXml1gnbH5Nx",
        "outputId": "499f14c4-9128-4df9-c9c1-8d491c388977"
      },
      "execution_count": 81,
      "outputs": [
        {
          "output_type": "stream",
          "name": "stdout",
          "text": [
            "128\n"
          ]
        }
      ]
    },
    {
      "cell_type": "code",
      "source": [
        "sample.keys()"
      ],
      "metadata": {
        "colab": {
          "base_uri": "https://localhost:8080/"
        },
        "id": "gu4lSDrWJFN0",
        "outputId": "d876aa0e-2767-4ced-bd3e-1315abca6c0a"
      },
      "execution_count": 82,
      "outputs": [
        {
          "output_type": "execute_result",
          "data": {
            "text/plain": [
              "dict_keys(['doc', 'label', 'doc_ids'])"
            ]
          },
          "metadata": {},
          "execution_count": 82
        }
      ]
    },
    {
      "cell_type": "code",
      "source": [
        "sample['doc'][2]"
      ],
      "metadata": {
        "colab": {
          "base_uri": "https://localhost:8080/",
          "height": 35
        },
        "id": "wpmPx4REJHJz",
        "outputId": "d99a2a80-6453-4b68-8d8e-d9dbd61cf1d3"
      },
      "execution_count": 83,
      "outputs": [
        {
          "output_type": "execute_result",
          "data": {
            "text/plain": [
              "'첫회부터 계속 따뜻한 마음으로 보고있답니다. 끝까지 본방사수할께요. ^^'"
            ],
            "application/vnd.google.colaboratory.intrinsic+json": {
              "type": "string"
            }
          },
          "metadata": {},
          "execution_count": 83
        }
      ]
    },
    {
      "cell_type": "code",
      "source": [
        "sample['doc_ids'][2]"
      ],
      "metadata": {
        "colab": {
          "base_uri": "https://localhost:8080/"
        },
        "id": "cgbjtpqSJIP6",
        "outputId": "b1dd8cf0-1ba4-4554-e51f-ca86d6e765ad"
      },
      "execution_count": 84,
      "outputs": [
        {
          "output_type": "execute_result",
          "data": {
            "text/plain": [
              "[27802,\n",
              " 110,\n",
              " 419,\n",
              " 1539,\n",
              " 1,\n",
              " 67,\n",
              " 1,\n",
              " 154,\n",
              " 0,\n",
              " 0,\n",
              " 0,\n",
              " 0,\n",
              " 0,\n",
              " 0,\n",
              " 0,\n",
              " 0,\n",
              " 0,\n",
              " 0,\n",
              " 0,\n",
              " 0,\n",
              " 0,\n",
              " 0,\n",
              " 0,\n",
              " 0,\n",
              " 0,\n",
              " 0,\n",
              " 0,\n",
              " 0,\n",
              " 0,\n",
              " 0,\n",
              " 0,\n",
              " 0,\n",
              " 0,\n",
              " 0,\n",
              " 0,\n",
              " 0,\n",
              " 0,\n",
              " 0,\n",
              " 0,\n",
              " 0,\n",
              " 0,\n",
              " 0,\n",
              " 0,\n",
              " 0,\n",
              " 0,\n",
              " 0,\n",
              " 0,\n",
              " 0,\n",
              " 0,\n",
              " 0]"
            ]
          },
          "metadata": {},
          "execution_count": 84
        }
      ]
    },
    {
      "cell_type": "markdown",
      "source": [
        "# CBOW model"
      ],
      "metadata": {
        "id": "kdt-3ssoJMQQ"
      }
    },
    {
      "cell_type": "code",
      "source": [
        "import torch\n",
        "import torch.nn as nn\n",
        "\n",
        "class CBOW(nn.Module):\n",
        "\n",
        "    def __init__(self, vocab_size, embed_dim):\n",
        "        super().__init__()\n",
        "\n",
        "        self.output_dim = embed_dim\n",
        "        # padding은 embedding을 lookup해서 사용하지 않게 하기 위해\n",
        "        # vocab_size * embed_dim 의 크기를 가진 테이블 생성\n",
        "        self.embeddings = nn.Embedding(vocab_size, embed_dim, padding_idx=0)\n",
        "\n",
        "    def forward(self, x):\n",
        "\n",
        "        # (batch_size, sequence) -> (batch_size, sequence, embed_dim)\n",
        "        # 해당 시퀀스를 Look up table을 보고 가져옴\n",
        "        x_embeded = self.embeddings(x)\n",
        "        stnc_repr = torch.mean(x_embeded, dim=1) # batch_size x embed_dim\n",
        "        return stnc_repr"
      ],
      "metadata": {
        "id": "emcP-iXOJKPY"
      },
      "execution_count": 175,
      "outputs": []
    },
    {
      "cell_type": "code",
      "source": [
        "import torch\n",
        "import numpy as np\n",
        "\n",
        "# 모델 초기화\n",
        "model = CBOW(vocab_size=5, embed_dim=16)\n",
        "\n",
        "# 임의의 입력 데이터 생성\n",
        "# 32개 배치 10개의 시퀀스 데이터 \n",
        "# 32 * 10 -> 32 * 10 * 16 -> 32 * 16 데이터로 변환\n",
        "input_data = np.random.randint(0, 5, size=(32, 10))\n",
        "\n",
        "# 모델에 입력 데이터 전달하여 출력값 확인\n",
        "output = model(torch.tensor(input_data, dtype=torch.int64))\n",
        "print(output.shape)\n",
        "\n",
        "# 그래디언트가 필요하지 않은 경우에만 detach()와 .numpy()를 함께 사용\n",
        "output_np = output.detach().numpy()\n",
        "\n",
        "#print(output_np.shape) # 예상 출력값: (32, 100)"
      ],
      "metadata": {
        "colab": {
          "base_uri": "https://localhost:8080/"
        },
        "id": "ZFRFrIOBJ37i",
        "outputId": "02c7c24f-dee7-4ed1-9861-61a948a1e2aa"
      },
      "execution_count": 176,
      "outputs": [
        {
          "output_type": "stream",
          "name": "stdout",
          "text": [
            "torch.Size([32, 16])\n"
          ]
        }
      ]
    },
    {
      "cell_type": "code",
      "source": [
        "class Classifier(nn.Module):\n",
        "\n",
        "    def __init__(self, sr_model, output_dim, vocab_size, embed_dim, **kwargs):\n",
        "        super().__init__()\n",
        "\n",
        "        self.sr_model = sr_model(vocab_size = vocab_size, embed_dim = embed_dim, **kwargs)\n",
        "        self.input_dim = self.sr_model.output_dim\n",
        "        self.output_dim = output_dim\n",
        "        self.fc = nn.Linear(self.input_dim, self.output_dim)\n",
        "    def forward(self, x):\n",
        "        return self.fc(self.sr_model(x))"
      ],
      "metadata": {
        "id": "_Yt34zlTKNoK"
      },
      "execution_count": 177,
      "outputs": []
    },
    {
      "cell_type": "code",
      "source": [
        "model = Classifier(sr_model=CBOW,\n",
        "                   output_dim=2,\n",
        "                   vocab_size=len(vocabs),\n",
        "                   embed_dim=16)"
      ],
      "metadata": {
        "id": "KSFeH5sNUXFO"
      },
      "execution_count": 178,
      "outputs": []
    },
    {
      "cell_type": "code",
      "source": [
        "# nn.Embedding(vocab_size, embed_dim, padding_idx=0)\n",
        "# padding_idx를 설정해놓으면,\n",
        "# padding_idx의 embedding은 0으로 초기화\n",
        "# padding index의 embedding은 gradient 계산을 하지 않음, 즉 padding embedding은 업데이트 되지 않음\n",
        "\n",
        "model.sr_model.embeddings.weight[0]"
      ],
      "metadata": {
        "colab": {
          "base_uri": "https://localhost:8080/"
        },
        "id": "DqVgf4j8UYL8",
        "outputId": "3b725978-a866-4fe9-9145-d1c5884e0c8d"
      },
      "execution_count": 179,
      "outputs": [
        {
          "output_type": "execute_result",
          "data": {
            "text/plain": [
              "tensor([0., 0., 0., 0., 0., 0., 0., 0., 0., 0., 0., 0., 0., 0., 0., 0.],\n",
              "       grad_fn=<SelectBackward0>)"
            ]
          },
          "metadata": {},
          "execution_count": 179
        }
      ]
    },
    {
      "cell_type": "markdown",
      "source": [
        "# Training"
      ],
      "metadata": {
        "id": "EeOCtXFzUe24"
      }
    },
    {
      "cell_type": "code",
      "source": [
        "use_cuda = True and torch.cuda.is_available()\n",
        "\n",
        "if use_cuda:\n",
        "    model.cuda()"
      ],
      "metadata": {
        "id": "3_A8OqugUZon"
      },
      "execution_count": 180,
      "outputs": []
    },
    {
      "cell_type": "code",
      "source": [
        "import torch.optim as optim\n",
        "import numpy as np\n",
        "from copy import deepcopy"
      ],
      "metadata": {
        "id": "mlZdrOQcUhB_"
      },
      "execution_count": 181,
      "outputs": []
    },
    {
      "cell_type": "code",
      "source": [
        "optimizer = optim.Adam(params=model.parameters(), lr=0.01)\n",
        "calc_loss = nn.CrossEntropyLoss()"
      ],
      "metadata": {
        "id": "0C0z7M0FUiHW"
      },
      "execution_count": 182,
      "outputs": []
    },
    {
      "cell_type": "code",
      "source": [
        "n_epoch = 10\n",
        "global_i = 0\n",
        "\n",
        "valid_loss_history = [] # [(global_i, valid_loss), ...]\n",
        "train_loss_history = [] # [(global_i, train_loss), ...]\n",
        "\n",
        "min_valid_loss = 9e+9\n",
        "best_model = None\n",
        "best_epoch_i = None\n",
        "\n",
        "ema_train_loss = None\n",
        "\n",
        "for epoch_i in range(n_epoch):\n",
        "    model.train()\n",
        "\n",
        "    for batch in train_dataloader:\n",
        "        optimizer.zero_grad()\n",
        "        x = torch.tensor(batch['doc_ids'])\n",
        "        y = torch.tensor(batch['label'])\n",
        "\n",
        "        if use_cuda:\n",
        "            x = x.cuda()\n",
        "            y = y.cuda()\n",
        "        y_pred = model(x)\n",
        "        loss = calc_loss(y_pred, y)\n",
        "\n",
        "        if global_i % 1000 == 0:\n",
        "            print(f\"global_i: {global_i}, epoch_i: {epoch_i}, loss: {loss.item()}\")\n",
        "        \n",
        "        train_loss_history.append((global_i, loss.item()))\n",
        "\n",
        "        loss.backward()\n",
        "        optimizer.step()\n",
        "        global_i += 1\n",
        "    model.eval()\n",
        "\n",
        "    # validation\n",
        "\n",
        "    valid_loss_list = []\n",
        "    for batch in valid_dataloader:\n",
        "        x = torch.tensor(batch['doc_ids'])\n",
        "        y = torch.tensor(batch['label'])\n",
        "\n",
        "        if use_cuda:\n",
        "            x = x.cuda()\n",
        "            y = y.cuda()\n",
        "\n",
        "        y_pred = model(x)\n",
        "        loss = calc_loss(y_pred, y)\n",
        "        valid_loss_list.append(loss.item())\n",
        "\n",
        "    \n",
        "    valid_loss_mean = np.mean(valid_loss_list)\n",
        "    valid_loss_history.append((global_i, valid_loss_mean.item()))\n",
        "    \n",
        "    \n",
        "    if valid_loss_mean < min_valid_loss:\n",
        "        min_valid_loss = valid_loss_mean\n",
        "        best_epoch_i = epoch_i\n",
        "        best_model = deepcopy(model)\n",
        "        \n",
        "    if epoch_i % 2 == 0:\n",
        "        print(\"*\"*30)\n",
        "        print(f\"valid_loss_mean: {valid_loss_mean}\")\n",
        "        print(\"*\"*30)\n",
        "print(f\"best_epoch_i: {best_epoch_i}\")"
      ],
      "metadata": {
        "colab": {
          "base_uri": "https://localhost:8080/"
        },
        "id": "65Nrb9UMUj23",
        "outputId": "3a54d62d-9f98-443f-e767-8fc2bee71669"
      },
      "execution_count": 183,
      "outputs": [
        {
          "output_type": "stream",
          "name": "stdout",
          "text": [
            "global_i: 0, epoch_i: 0, loss: 0.6821851134300232\n",
            "******************************\n",
            "valid_loss_mean: 0.6639865562319756\n",
            "******************************\n",
            "******************************\n",
            "valid_loss_mean: 0.5322051693995794\n",
            "******************************\n",
            "******************************\n",
            "valid_loss_mean: 0.5436053934196631\n",
            "******************************\n",
            "******************************\n",
            "valid_loss_mean: 0.5887767958144347\n",
            "******************************\n",
            "******************************\n",
            "valid_loss_mean: 0.6419894757370154\n",
            "******************************\n",
            "best_epoch_i: 3\n"
          ]
        }
      ]
    },
    {
      "cell_type": "markdown",
      "source": [
        "# Learning Curve"
      ],
      "metadata": {
        "id": "DdtUEKuRVkq2"
      }
    },
    {
      "cell_type": "code",
      "source": [
        "def calc_moving_average(arr, win_size=100):\n",
        "    new_arr = []\n",
        "    win = []\n",
        "    \n",
        "    for i, val in enumerate(arr):\n",
        "        win.append(val)\n",
        "        if len(win) > win_size:\n",
        "            win.pop(0)\n",
        "        \n",
        "        new_arr.append(np.mean(win))\n",
        "    return np.array(new_arr)"
      ],
      "metadata": {
        "id": "FXbxAlIrVRxt"
      },
      "execution_count": 184,
      "outputs": []
    },
    {
      "cell_type": "code",
      "source": [
        "valid_loss_history = np.array(valid_loss_history)\n",
        "train_loss_history =  np.array(train_loss_history)\n",
        "\n",
        "plt.figure(figsize=(12,8))\n",
        "plt.plot(train_loss_history[:,0],\n",
        "         calc_moving_average(train_loss_history[:,1]), color='blue')\n",
        "\n",
        "plt.plot(valid_loss_history[:,0],\n",
        "         valid_loss_history[:,1], color='red')\n",
        "plt.xlabel(\"step\")\n",
        "plt.ylabel(\"loss\")"
      ],
      "metadata": {
        "colab": {
          "base_uri": "https://localhost:8080/",
          "height": 514
        },
        "id": "WxDafNQcVoMg",
        "outputId": "1b11d58b-b99e-47fd-fdf2-55b7a3aa9230"
      },
      "execution_count": 185,
      "outputs": [
        {
          "output_type": "execute_result",
          "data": {
            "text/plain": [
              "Text(0, 0.5, 'loss')"
            ]
          },
          "metadata": {},
          "execution_count": 185
        },
        {
          "output_type": "display_data",
          "data": {
            "text/plain": [
              "<Figure size 864x576 with 1 Axes>"
            ],
            "image/png": "[encoded data removed]"
          },
          "metadata": {
            "needs_background": "light"
          }
        }
      ]
    },
    {
      "cell_type": "markdown",
      "source": [
        "# Evaluation"
      ],
      "metadata": {
        "id": "11WmKGX1Vri4"
      }
    },
    {
      "cell_type": "code",
      "source": [
        "from tqdm.auto import tqdm"
      ],
      "metadata": {
        "id": "J8h6qATfVpmf"
      },
      "execution_count": 186,
      "outputs": []
    },
    {
      "cell_type": "code",
      "source": [
        "model = best_model\n",
        "\n",
        "model.eval()\n",
        "\n",
        "total = 0\n",
        "correct = 0\n",
        "\n",
        "for batch in tqdm(test_dataloader,\n",
        "                  total=len(test_dataloader.dataset)//test_dataloader.batch_size):\n",
        "    x = torch.tensor(batch['doc_ids'])\n",
        "    y = torch.tensor(batch['label'])\n",
        "\n",
        "    if use_cuda:\n",
        "        x = x.cuda()\n",
        "        y = y.cuda()\n",
        "    y_pred = model(x)\n",
        "    \n",
        "    curr_correct = y_pred.argmax(dim=1) == y\n",
        "    \n",
        "    total += len(curr_correct)\n",
        "    correct += sum(curr_correct)\n",
        "    \n",
        "print(f\"test accuracy: {correct/total}\")"
      ],
      "metadata": {
        "colab": {
          "base_uri": "https://localhost:8080/",
          "height": 66,
          "referenced_widgets": [
            "9e2d404e57ed4ce29b76ca302fa1a61d",
            "831f87df87fe4f8cb9badd8d4152d348",
            "d84197dcd0524f0388159ca65f0fb297",
            "77ae66c1f1f44c32aaaf9ebde9b1929b",
            "c3a409fad54b49018cc634710ec69cd4",
            "22a5178ffe2740eda4bb88518b5c9168",
            "df6b03b0d54e441f9fd7550df5c943b2",
            "d2d32718fef3483d901918e8427fb097",
            "cac348256e1545789a1ba7247eb5f5b9",
            "bba028a0197248bf8a7c9be1351fa4da",
            "68da05a087ab44e2b7fb415cee369f41"
          ]
        },
        "id": "T36E0fgIVtJV",
        "outputId": "90bf84f2-8503-46af-ff31-513cafa4d754"
      },
      "execution_count": 187,
      "outputs": [
        {
          "output_type": "display_data",
          "data": {
            "text/plain": [
              "  0%|          | 0/39 [00:00<?, ?it/s]"
            ],
            "application/vnd.jupyter.widget-view+json": {
              "version_major": 2,
              "version_minor": 0,
              "model_id": "9e2d404e57ed4ce29b76ca302fa1a61d"
            }
          },
          "metadata": {}
        },
        {
          "output_type": "stream",
          "name": "stdout",
          "text": [
            "test accuracy: 0.7102000117301941\n"
          ]
        }
      ]
    },
    {
      "cell_type": "code",
      "source": [],
      "metadata": {
        "id": "VQ-XZ2S0V7iU"
      },
      "execution_count": null,
      "outputs": []
    }
  ]
}