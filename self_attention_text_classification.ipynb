{
  "nbformat": 4,
  "nbformat_minor": 0,
  "metadata": {
    "colab": {
      "provenance": []
    },
    "kernelspec": {
      "name": "python3",
      "display_name": "Python 3"
    },
    "language_info": {
      "name": "python"
    },
    "accelerator": "GPU",
    "gpuClass": "standard",
    "widgets": {
      "application/vnd.jupyter.widget-state+json": {
        "3f2e1dec907146bdb3440a503e21b71d": {
          "model_module": "@jupyter-widgets/controls",
          "model_name": "HBoxModel",
          "model_module_version": "1.5.0",
          "state": {
            "_dom_classes": [],
            "_model_module": "@jupyter-widgets/controls",
            "_model_module_version": "1.5.0",
            "_model_name": "HBoxModel",
            "_view_count": null,
            "_view_module": "@jupyter-widgets/controls",
            "_view_module_version": "1.5.0",
            "_view_name": "HBoxView",
            "box_style": "",
            "children": [
              "IPY_MODEL_4deb20f301eb41b5960fab65859ba751",
              "IPY_MODEL_71301e68a0c144248e27cb06d1524fd1",
              "IPY_MODEL_f46c45923e3d42ec89642f9cce356168"
            ],
            "layout": "IPY_MODEL_edc21ad46d3a40e299876eee01336969"
          }
        },
        "4deb20f301eb41b5960fab65859ba751": {
          "model_module": "@jupyter-widgets/controls",
          "model_name": "HTMLModel",
          "model_module_version": "1.5.0",
          "state": {
            "_dom_classes": [],
            "_model_module": "@jupyter-widgets/controls",
            "_model_module_version": "1.5.0",
            "_model_name": "HTMLModel",
            "_view_count": null,
            "_view_module": "@jupyter-widgets/controls",
            "_view_module_version": "1.5.0",
            "_view_name": "HTMLView",
            "description": "",
            "description_tooltip": null,
            "layout": "IPY_MODEL_e4075c0a6f08469a86e76837b70a16d9",
            "placeholder": "​",
            "style": "IPY_MODEL_410aaaafa851459eae794e52fdb53dbb",
            "value": ""
          }
        },
        "71301e68a0c144248e27cb06d1524fd1": {
          "model_module": "@jupyter-widgets/controls",
          "model_name": "FloatProgressModel",
          "model_module_version": "1.5.0",
          "state": {
            "_dom_classes": [],
            "_model_module": "@jupyter-widgets/controls",
            "_model_module_version": "1.5.0",
            "_model_name": "FloatProgressModel",
            "_view_count": null,
            "_view_module": "@jupyter-widgets/controls",
            "_view_module_version": "1.5.0",
            "_view_name": "ProgressView",
            "bar_style": "success",
            "description": "",
            "description_tooltip": null,
            "layout": "IPY_MODEL_5f8678e9bd4d4e8e8db94abd1a7021fd",
            "max": 78,
            "min": 0,
            "orientation": "horizontal",
            "style": "IPY_MODEL_7ac078c53eb4451bb4aded7ab3226f24",
            "value": 78
          }
        },
        "f46c45923e3d42ec89642f9cce356168": {
          "model_module": "@jupyter-widgets/controls",
          "model_name": "HTMLModel",
          "model_module_version": "1.5.0",
          "state": {
            "_dom_classes": [],
            "_model_module": "@jupyter-widgets/controls",
            "_model_module_version": "1.5.0",
            "_model_name": "HTMLModel",
            "_view_count": null,
            "_view_module": "@jupyter-widgets/controls",
            "_view_module_version": "1.5.0",
            "_view_name": "HTMLView",
            "description": "",
            "description_tooltip": null,
            "layout": "IPY_MODEL_5c293e522c1e405baa73e1db2d33a90c",
            "placeholder": "​",
            "style": "IPY_MODEL_c91472237f4743b68d389b43ce975746",
            "value": " 79/? [00:00&lt;00:00, 128.63it/s]"
          }
        },
        "edc21ad46d3a40e299876eee01336969": {
          "model_module": "@jupyter-widgets/base",
          "model_name": "LayoutModel",
          "model_module_version": "1.2.0",
          "state": {
            "_model_module": "@jupyter-widgets/base",
            "_model_module_version": "1.2.0",
            "_model_name": "LayoutModel",
            "_view_count": null,
            "_view_module": "@jupyter-widgets/base",
            "_view_module_version": "1.2.0",
            "_view_name": "LayoutView",
            "align_content": null,
            "align_items": null,
            "align_self": null,
            "border": null,
            "bottom": null,
            "display": null,
            "flex": null,
            "flex_flow": null,
            "grid_area": null,
            "grid_auto_columns": null,
            "grid_auto_flow": null,
            "grid_auto_rows": null,
            "grid_column": null,
            "grid_gap": null,
            "grid_row": null,
            "grid_template_areas": null,
            "grid_template_columns": null,
            "grid_template_rows": null,
            "height": null,
            "justify_content": null,
            "justify_items": null,
            "left": null,
            "margin": null,
            "max_height": null,
            "max_width": null,
            "min_height": null,
            "min_width": null,
            "object_fit": null,
            "object_position": null,
            "order": null,
            "overflow": null,
            "overflow_x": null,
            "overflow_y": null,
            "padding": null,
            "right": null,
            "top": null,
            "visibility": null,
            "width": null
          }
        },
        "e4075c0a6f08469a86e76837b70a16d9": {
          "model_module": "@jupyter-widgets/base",
          "model_name": "LayoutModel",
          "model_module_version": "1.2.0",
          "state": {
            "_model_module": "@jupyter-widgets/base",
            "_model_module_version": "1.2.0",
            "_model_name": "LayoutModel",
            "_view_count": null,
            "_view_module": "@jupyter-widgets/base",
            "_view_module_version": "1.2.0",
            "_view_name": "LayoutView",
            "align_content": null,
            "align_items": null,
            "align_self": null,
            "border": null,
            "bottom": null,
            "display": null,
            "flex": null,
            "flex_flow": null,
            "grid_area": null,
            "grid_auto_columns": null,
            "grid_auto_flow": null,
            "grid_auto_rows": null,
            "grid_column": null,
            "grid_gap": null,
            "grid_row": null,
            "grid_template_areas": null,
            "grid_template_columns": null,
            "grid_template_rows": null,
            "height": null,
            "justify_content": null,
            "justify_items": null,
            "left": null,
            "margin": null,
            "max_height": null,
            "max_width": null,
            "min_height": null,
            "min_width": null,
            "object_fit": null,
            "object_position": null,
            "order": null,
            "overflow": null,
            "overflow_x": null,
            "overflow_y": null,
            "padding": null,
            "right": null,
            "top": null,
            "visibility": null,
            "width": null
          }
        },
        "410aaaafa851459eae794e52fdb53dbb": {
          "model_module": "@jupyter-widgets/controls",
          "model_name": "DescriptionStyleModel",
          "model_module_version": "1.5.0",
          "state": {
            "_model_module": "@jupyter-widgets/controls",
            "_model_module_version": "1.5.0",
            "_model_name": "DescriptionStyleModel",
            "_view_count": null,
            "_view_module": "@jupyter-widgets/base",
            "_view_module_version": "1.2.0",
            "_view_name": "StyleView",
            "description_width": ""
          }
        },
        "5f8678e9bd4d4e8e8db94abd1a7021fd": {
          "model_module": "@jupyter-widgets/base",
          "model_name": "LayoutModel",
          "model_module_version": "1.2.0",
          "state": {
            "_model_module": "@jupyter-widgets/base",
            "_model_module_version": "1.2.0",
            "_model_name": "LayoutModel",
            "_view_count": null,
            "_view_module": "@jupyter-widgets/base",
            "_view_module_version": "1.2.0",
            "_view_name": "LayoutView",
            "align_content": null,
            "align_items": null,
            "align_self": null,
            "border": null,
            "bottom": null,
            "display": null,
            "flex": null,
            "flex_flow": null,
            "grid_area": null,
            "grid_auto_columns": null,
            "grid_auto_flow": null,
            "grid_auto_rows": null,
            "grid_column": null,
            "grid_gap": null,
            "grid_row": null,
            "grid_template_areas": null,
            "grid_template_columns": null,
            "grid_template_rows": null,
            "height": null,
            "justify_content": null,
            "justify_items": null,
            "left": null,
            "margin": null,
            "max_height": null,
            "max_width": null,
            "min_height": null,
            "min_width": null,
            "object_fit": null,
            "object_position": null,
            "order": null,
            "overflow": null,
            "overflow_x": null,
            "overflow_y": null,
            "padding": null,
            "right": null,
            "top": null,
            "visibility": null,
            "width": null
          }
        },
        "7ac078c53eb4451bb4aded7ab3226f24": {
          "model_module": "@jupyter-widgets/controls",
          "model_name": "ProgressStyleModel",
          "model_module_version": "1.5.0",
          "state": {
            "_model_module": "@jupyter-widgets/controls",
            "_model_module_version": "1.5.0",
            "_model_name": "ProgressStyleModel",
            "_view_count": null,
            "_view_module": "@jupyter-widgets/base",
            "_view_module_version": "1.2.0",
            "_view_name": "StyleView",
            "bar_color": null,
            "description_width": ""
          }
        },
        "5c293e522c1e405baa73e1db2d33a90c": {
          "model_module": "@jupyter-widgets/base",
          "model_name": "LayoutModel",
          "model_module_version": "1.2.0",
          "state": {
            "_model_module": "@jupyter-widgets/base",
            "_model_module_version": "1.2.0",
            "_model_name": "LayoutModel",
            "_view_count": null,
            "_view_module": "@jupyter-widgets/base",
            "_view_module_version": "1.2.0",
            "_view_name": "LayoutView",
            "align_content": null,
            "align_items": null,
            "align_self": null,
            "border": null,
            "bottom": null,
            "display": null,
            "flex": null,
            "flex_flow": null,
            "grid_area": null,
            "grid_auto_columns": null,
            "grid_auto_flow": null,
            "grid_auto_rows": null,
            "grid_column": null,
            "grid_gap": null,
            "grid_row": null,
            "grid_template_areas": null,
            "grid_template_columns": null,
            "grid_template_rows": null,
            "height": null,
            "justify_content": null,
            "justify_items": null,
            "left": null,
            "margin": null,
            "max_height": null,
            "max_width": null,
            "min_height": null,
            "min_width": null,
            "object_fit": null,
            "object_position": null,
            "order": null,
            "overflow": null,
            "overflow_x": null,
            "overflow_y": null,
            "padding": null,
            "right": null,
            "top": null,
            "visibility": null,
            "width": null
          }
        },
        "c91472237f4743b68d389b43ce975746": {
          "model_module": "@jupyter-widgets/controls",
          "model_name": "DescriptionStyleModel",
          "model_module_version": "1.5.0",
          "state": {
            "_model_module": "@jupyter-widgets/controls",
            "_model_module_version": "1.5.0",
            "_model_name": "DescriptionStyleModel",
            "_view_count": null,
            "_view_module": "@jupyter-widgets/base",
            "_view_module_version": "1.2.0",
            "_view_name": "StyleView",
            "description_width": ""
          }
        }
      }
    }
  },
  "cells": [
    {
      "cell_type": "code",
      "source": [
        "# !sudo apt-get install -y fonts-nanum\n",
        "# !sudo fc-cache -fv\n",
        "# !rm ~/.cache/matplotlib -rf\n"
      ],
      "metadata": {
        "id": "Rr6TyIlsIXJ3"
      },
      "execution_count": 105,
      "outputs": []
    },
    {
      "cell_type": "code",
      "execution_count": 106,
      "metadata": {
        "id": "Rlqe33vdvORA"
      },
      "outputs": [],
      "source": [
        "import matplotlib.pyplot as plt\n",
        "plt.rc('font', family='NanumBarunGothic') "
      ]
    },
    {
      "cell_type": "code",
      "source": [
        "from google.colab import drive\n",
        "drive.mount('/content/drive')"
      ],
      "metadata": {
        "colab": {
          "base_uri": "https://localhost:8080/"
        },
        "id": "AH-TOrvuvWQt",
        "outputId": "3017b741-0173-4d72-a1a9-8083f72a50eb"
      },
      "execution_count": 107,
      "outputs": [
        {
          "output_type": "stream",
          "name": "stdout",
          "text": [
            "Drive already mounted at /content/drive; to attempt to forcibly remount, call drive.mount(\"/content/drive\", force_remount=True).\n"
          ]
        }
      ]
    },
    {
      "cell_type": "code",
      "source": [
        "import pandas as pd\n",
        "df = pd.read_csv(\"/content/drive/MyDrive/Colab_Notebooks/NLP/data/ratings_train.txt\", sep='\\t')"
      ],
      "metadata": {
        "id": "1s64nFKevX32"
      },
      "execution_count": 108,
      "outputs": []
    },
    {
      "cell_type": "code",
      "source": [
        "print(df.shape)\n",
        "df.head(3)"
      ],
      "metadata": {
        "colab": {
          "base_uri": "https://localhost:8080/",
          "height": 161
        },
        "id": "X5nJLcRxvv3F",
        "outputId": "86e83389-52e8-4953-ecc4-4f31e4ddcc97"
      },
      "execution_count": 109,
      "outputs": [
        {
          "output_type": "stream",
          "name": "stdout",
          "text": [
            "(150000, 3)\n"
          ]
        },
        {
          "output_type": "execute_result",
          "data": {
            "text/plain": [
              "         id                           document  label\n",
              "0   9976970                아 더빙.. 진짜 짜증나네요 목소리      0\n",
              "1   3819312  흠...포스터보고 초딩영화줄....오버연기조차 가볍지 않구나      1\n",
              "2  10265843                  너무재밓었다그래서보는것을추천한다      0"
            ],
            "text/html": [
              "\n",
              "  <div id=\"df-13737dff-ef67-401e-92d7-d9cfd67e9e94\">\n",
              "    <div class=\"colab-df-container\">\n",
              "      <div>\n",
              "<style scoped>\n",
              "    .dataframe tbody tr th:only-of-type {\n",
              "        vertical-align: middle;\n",
              "    }\n",
              "\n",
              "    .dataframe tbody tr th {\n",
              "        vertical-align: top;\n",
              "    }\n",
              "\n",
              "    .dataframe thead th {\n",
              "        text-align: right;\n",
              "    }\n",
              "</style>\n",
              "<table border=\"1\" class=\"dataframe\">\n",
              "  <thead>\n",
              "    <tr style=\"text-align: right;\">\n",
              "      <th></th>\n",
              "      <th>id</th>\n",
              "      <th>document</th>\n",
              "      <th>label</th>\n",
              "    </tr>\n",
              "  </thead>\n",
              "  <tbody>\n",
              "    <tr>\n",
              "      <th>0</th>\n",
              "      <td>9976970</td>\n",
              "      <td>아 더빙.. 진짜 짜증나네요 목소리</td>\n",
              "      <td>0</td>\n",
              "    </tr>\n",
              "    <tr>\n",
              "      <th>1</th>\n",
              "      <td>3819312</td>\n",
              "      <td>흠...포스터보고 초딩영화줄....오버연기조차 가볍지 않구나</td>\n",
              "      <td>1</td>\n",
              "    </tr>\n",
              "    <tr>\n",
              "      <th>2</th>\n",
              "      <td>10265843</td>\n",
              "      <td>너무재밓었다그래서보는것을추천한다</td>\n",
              "      <td>0</td>\n",
              "    </tr>\n",
              "  </tbody>\n",
              "</table>\n",
              "</div>\n",
              "      <button class=\"colab-df-convert\" onclick=\"convertToInteractive('df-13737dff-ef67-401e-92d7-d9cfd67e9e94')\"\n",
              "              title=\"Convert this dataframe to an interactive table.\"\n",
              "              style=\"display:none;\">\n",
              "        \n",
              "  <svg xmlns=\"http://www.w3.org/2000/svg\" height=\"24px\"viewBox=\"0 0 24 24\"\n",
              "       width=\"24px\">\n",
              "    <path d=\"M0 0h24v24H0V0z\" fill=\"none\"/>\n",
              "    <path d=\"M18.56 5.44l.94 2.06.94-2.06 2.06-.94-2.06-.94-.94-2.06-.94 2.06-2.06.94zm-11 1L8.5 8.5l.94-2.06 2.06-.94-2.06-.94L8.5 2.5l-.94 2.06-2.06.94zm10 10l.94 2.06.94-2.06 2.06-.94-2.06-.94-.94-2.06-.94 2.06-2.06.94z\"/><path d=\"M17.41 7.96l-1.37-1.37c-.4-.4-.92-.59-1.43-.59-.52 0-1.04.2-1.43.59L10.3 9.45l-7.72 7.72c-.78.78-.78 2.05 0 2.83L4 21.41c.39.39.9.59 1.41.59.51 0 1.02-.2 1.41-.59l7.78-7.78 2.81-2.81c.8-.78.8-2.07 0-2.86zM5.41 20L4 18.59l7.72-7.72 1.47 1.35L5.41 20z\"/>\n",
              "  </svg>\n",
              "      </button>\n",
              "      \n",
              "  <style>\n",
              "    .colab-df-container {\n",
              "      display:flex;\n",
              "      flex-wrap:wrap;\n",
              "      gap: 12px;\n",
              "    }\n",
              "\n",
              "    .colab-df-convert {\n",
              "      background-color: #E8F0FE;\n",
              "      border: none;\n",
              "      border-radius: 50%;\n",
              "      cursor: pointer;\n",
              "      display: none;\n",
              "      fill: #1967D2;\n",
              "      height: 32px;\n",
              "      padding: 0 0 0 0;\n",
              "      width: 32px;\n",
              "    }\n",
              "\n",
              "    .colab-df-convert:hover {\n",
              "      background-color: #E2EBFA;\n",
              "      box-shadow: 0px 1px 2px rgba(60, 64, 67, 0.3), 0px 1px 3px 1px rgba(60, 64, 67, 0.15);\n",
              "      fill: #174EA6;\n",
              "    }\n",
              "\n",
              "    [theme=dark] .colab-df-convert {\n",
              "      background-color: #3B4455;\n",
              "      fill: #D2E3FC;\n",
              "    }\n",
              "\n",
              "    [theme=dark] .colab-df-convert:hover {\n",
              "      background-color: #434B5C;\n",
              "      box-shadow: 0px 1px 3px 1px rgba(0, 0, 0, 0.15);\n",
              "      filter: drop-shadow(0px 1px 2px rgba(0, 0, 0, 0.3));\n",
              "      fill: #FFFFFF;\n",
              "    }\n",
              "  </style>\n",
              "\n",
              "      <script>\n",
              "        const buttonEl =\n",
              "          document.querySelector('#df-13737dff-ef67-401e-92d7-d9cfd67e9e94 button.colab-df-convert');\n",
              "        buttonEl.style.display =\n",
              "          google.colab.kernel.accessAllowed ? 'block' : 'none';\n",
              "\n",
              "        async function convertToInteractive(key) {\n",
              "          const element = document.querySelector('#df-13737dff-ef67-401e-92d7-d9cfd67e9e94');\n",
              "          const dataTable =\n",
              "            await google.colab.kernel.invokeFunction('convertToInteractive',\n",
              "                                                     [key], {});\n",
              "          if (!dataTable) return;\n",
              "\n",
              "          const docLinkHtml = 'Like what you see? Visit the ' +\n",
              "            '<a target=\"_blank\" href=https://colab.research.google.com/notebooks/data_table.ipynb>data table notebook</a>'\n",
              "            + ' to learn more about interactive tables.';\n",
              "          element.innerHTML = '';\n",
              "          dataTable['output_type'] = 'display_data';\n",
              "          await google.colab.output.renderOutput(dataTable, element);\n",
              "          const docLink = document.createElement('div');\n",
              "          docLink.innerHTML = docLinkHtml;\n",
              "          element.appendChild(docLink);\n",
              "        }\n",
              "      </script>\n",
              "    </div>\n",
              "  </div>\n",
              "  "
            ]
          },
          "metadata": {},
          "execution_count": 109
        }
      ]
    },
    {
      "cell_type": "code",
      "source": [
        "# pos, neg 비율\n",
        "df['label'].value_counts()"
      ],
      "metadata": {
        "colab": {
          "base_uri": "https://localhost:8080/"
        },
        "id": "H6KJhIV7vysK",
        "outputId": "c9238c2f-3fe2-441e-fc84-dec6a287441d"
      },
      "execution_count": 110,
      "outputs": [
        {
          "output_type": "execute_result",
          "data": {
            "text/plain": [
              "0    75173\n",
              "1    74827\n",
              "Name: label, dtype: int64"
            ]
          },
          "metadata": {},
          "execution_count": 110
        }
      ]
    },
    {
      "cell_type": "markdown",
      "source": [
        "## Missing 데이터 확인"
      ],
      "metadata": {
        "id": "uvcmnpNLwfGT"
      }
    },
    {
      "cell_type": "code",
      "source": [
        "# missing doc\n",
        "sum(df['document'].isnull())"
      ],
      "metadata": {
        "colab": {
          "base_uri": "https://localhost:8080/"
        },
        "id": "IiicJ53wwZQU",
        "outputId": "723b924b-f930-4473-ddac-d023b3ec20c9"
      },
      "execution_count": 111,
      "outputs": [
        {
          "output_type": "execute_result",
          "data": {
            "text/plain": [
              "5"
            ]
          },
          "metadata": {},
          "execution_count": 111
        }
      ]
    },
    {
      "cell_type": "code",
      "source": [
        "df = df[~df['document'].isnull()]"
      ],
      "metadata": {
        "id": "mX4ZmyzKwgxm"
      },
      "execution_count": 112,
      "outputs": []
    },
    {
      "cell_type": "code",
      "source": [
        "sum(df['document'].isnull())"
      ],
      "metadata": {
        "colab": {
          "base_uri": "https://localhost:8080/"
        },
        "id": "Zyu7fgLNwiFU",
        "outputId": "7602ba83-40dc-4992-8bb3-83861870b33e"
      },
      "execution_count": 113,
      "outputs": [
        {
          "output_type": "execute_result",
          "data": {
            "text/plain": [
              "0"
            ]
          },
          "metadata": {},
          "execution_count": 113
        }
      ]
    },
    {
      "cell_type": "markdown",
      "source": [
        "# Tokenization\n",
        "\n",
        "자연어를 모델이 이해하게 하기위해서는 자연어를 숫자의 형식으로 변형 시켜야한다."
      ],
      "metadata": {
        "id": "T2jmPaZdwlBs"
      }
    },
    {
      "cell_type": "code",
      "source": [
        "df['document'].iloc[0].split()"
      ],
      "metadata": {
        "colab": {
          "base_uri": "https://localhost:8080/"
        },
        "id": "ol3NjRVVwjSR",
        "outputId": "d9f16305-53d4-490f-e5aa-6caf26864f46"
      },
      "execution_count": 114,
      "outputs": [
        {
          "output_type": "execute_result",
          "data": {
            "text/plain": [
              "['아', '더빙..', '진짜', '짜증나네요', '목소리']"
            ]
          },
          "metadata": {},
          "execution_count": 114
        }
      ]
    },
    {
      "cell_type": "code",
      "source": [
        "# tokenization\n",
        "vocab = set()\n",
        "for doc in df['document']:\n",
        "    for token in doc.split():\n",
        "        vocab.add(token)\n",
        "print(len(vocab))"
      ],
      "metadata": {
        "colab": {
          "base_uri": "https://localhost:8080/"
        },
        "id": "TbW8vpXzwmwt",
        "outputId": "2d11c61e-dd2d-44f4-e3ad-cddde22c145b"
      },
      "execution_count": 115,
      "outputs": [
        {
          "output_type": "stream",
          "name": "stdout",
          "text": [
            "357862\n"
          ]
        }
      ]
    },
    {
      "cell_type": "code",
      "source": [
        "# tokenization\n",
        "vocab_cnt_dict = {} \n",
        "for doc in df['document']:\n",
        "    for token in doc.split():\n",
        "        if token not in vocab_cnt_dict:\n",
        "            vocab_cnt_dict[token] = 0\n",
        "        vocab_cnt_dict[token] += 1"
      ],
      "metadata": {
        "id": "MhXzSXpiySn1"
      },
      "execution_count": 116,
      "outputs": []
    },
    {
      "cell_type": "code",
      "source": [
        "import numpy as np\n",
        "vocab_cnt_list = [(token, cnt) for token, cnt in vocab_cnt_dict.items()]\n",
        "top_vocabs = sorted(vocab_cnt_list, key=lambda tup:tup[1], reverse=True)\n",
        "cnts = [cnt for _, cnt in top_vocabs]\n",
        "cnts[:10]"
      ],
      "metadata": {
        "colab": {
          "base_uri": "https://localhost:8080/"
        },
        "id": "2hQkssiqw0NF",
        "outputId": "c693fea1-f5df-44c2-9686-b261d5825d0b"
      },
      "execution_count": 117,
      "outputs": [
        {
          "output_type": "execute_result",
          "data": {
            "text/plain": [
              "[10825, 8239, 7791, 5929, 5059, 3598, 3285, 3260, 3249, 3237]"
            ]
          },
          "metadata": {},
          "execution_count": 117
        }
      ]
    },
    {
      "cell_type": "code",
      "source": [
        "n_vocab = sum(np.array(cnts) > 2)\n",
        "print(n_vocab)\n",
        "top_vocabs_truncated = top_vocabs[:n_vocab]\n",
        "top_vocabs_truncated[:10]"
      ],
      "metadata": {
        "colab": {
          "base_uri": "https://localhost:8080/"
        },
        "id": "DVnQz2v4yM5T",
        "outputId": "5f72097c-dca9-4d3f-de76-3247e3f8d24c"
      },
      "execution_count": 118,
      "outputs": [
        {
          "output_type": "stream",
          "name": "stdout",
          "text": [
            "42635\n"
          ]
        },
        {
          "output_type": "execute_result",
          "data": {
            "text/plain": [
              "[('영화', 10825),\n",
              " ('너무', 8239),\n",
              " ('정말', 7791),\n",
              " ('진짜', 5929),\n",
              " ('이', 5059),\n",
              " ('영화.', 3598),\n",
              " ('왜', 3285),\n",
              " ('더', 3260),\n",
              " ('이런', 3249),\n",
              " ('그냥', 3237)]"
            ]
          },
          "metadata": {},
          "execution_count": 118
        }
      ]
    },
    {
      "cell_type": "code",
      "source": [
        "vocabs = [token for token, _ in top_vocabs_truncated]"
      ],
      "metadata": {
        "id": "rG_7cB2BzW0z"
      },
      "execution_count": 119,
      "outputs": []
    },
    {
      "cell_type": "markdown",
      "source": [
        "## PAD token UNK token!\n",
        "\n",
        "- UNK token은 Unknown token을 의미한다.\n",
        "- PAD token은 Padding을 위한 token을 의미한다."
      ],
      "metadata": {
        "id": "qHynkulNzOUA"
      }
    },
    {
      "cell_type": "code",
      "source": [
        "unk_token = '[UNK]'\n",
        "unk_token in vocabs"
      ],
      "metadata": {
        "colab": {
          "base_uri": "https://localhost:8080/"
        },
        "id": "yoIhLjnHyrpO",
        "outputId": "2d6056f5-572e-48f2-8413-dd80a1fb7e83"
      },
      "execution_count": 120,
      "outputs": [
        {
          "output_type": "execute_result",
          "data": {
            "text/plain": [
              "False"
            ]
          },
          "metadata": {},
          "execution_count": 120
        }
      ]
    },
    {
      "cell_type": "code",
      "source": [
        "pad_token = '[PAD]'\n",
        "pad_token in vocabs"
      ],
      "metadata": {
        "colab": {
          "base_uri": "https://localhost:8080/"
        },
        "id": "TaQaiioAzQOG",
        "outputId": "f20cb8b0-222d-46a0-9bed-acd73102bad5"
      },
      "execution_count": 121,
      "outputs": [
        {
          "output_type": "execute_result",
          "data": {
            "text/plain": [
              "False"
            ]
          },
          "metadata": {},
          "execution_count": 121
        }
      ]
    },
    {
      "cell_type": "code",
      "source": [
        "vocabs.insert(0, unk_token)\n",
        "vocabs.insert(0, pad_token)"
      ],
      "metadata": {
        "id": "WmZDpBhgzbgB"
      },
      "execution_count": 122,
      "outputs": []
    },
    {
      "cell_type": "code",
      "source": [
        "idx_to_token = vocabs\n",
        "token_to_idx = {token: i for i, token in enumerate(idx_to_token)}\n",
        "print(idx_to_token[:5])"
      ],
      "metadata": {
        "colab": {
          "base_uri": "https://localhost:8080/"
        },
        "id": "_A_YWLlNzc8B",
        "outputId": "a8c4b3fc-b6f0-4b83-9028-a5236dbfa7d1"
      },
      "execution_count": 123,
      "outputs": [
        {
          "output_type": "stream",
          "name": "stdout",
          "text": [
            "['[PAD]', '[UNK]', '영화', '너무', '정말']\n"
          ]
        }
      ]
    },
    {
      "cell_type": "code",
      "source": [
        "class Tokenizer:\n",
        "    def __init__(self, vocabs, use_padding=True, max_padding=64, pad_token='[PAD]', unk_token='[UNK]'):\n",
        "        self.idx_to_token = vocabs\n",
        "        self.token_to_idx = {token: i for i, token in enumerate(self.idx_to_token)}\n",
        "        \n",
        "        self.use_padding = use_padding\n",
        "        self.max_padding = max_padding\n",
        "        \n",
        "        self.pad_token = pad_token\n",
        "        self.unk_token = unk_token\n",
        "        \n",
        "        self.unk_token_idx = self.token_to_idx[self.unk_token]\n",
        "        self.pad_token_idx = self.token_to_idx[self.pad_token]\n",
        "        \n",
        "        \n",
        "    def __call__(self, x):\n",
        "        token_ids = []\n",
        "        \n",
        "        token_list = x.split()\n",
        "        \n",
        "        for token in token_list:\n",
        "            if token in self.token_to_idx:\n",
        "                token_idx = self.token_to_idx[token]\n",
        "            else:\n",
        "                token_idx = self.unk_token_idx\n",
        "            token_ids.append(token_idx)\n",
        "            \n",
        "        if self.use_padding:\n",
        "            token_ids = token_ids[:self.max_padding]\n",
        "            n_pads = self.max_padding - len(token_ids)\n",
        "            token_ids = token_ids + [self.pad_token_idx] * n_pads\n",
        "        \n",
        "        return token_ids\n",
        "            "
      ],
      "metadata": {
        "id": "8tfQS1H-z13r"
      },
      "execution_count": 124,
      "outputs": []
    },
    {
      "cell_type": "code",
      "source": [
        "tokenizer = Tokenizer(vocabs, use_padding=False)"
      ],
      "metadata": {
        "id": "tHWkmI4r1YNz"
      },
      "execution_count": 125,
      "outputs": []
    },
    {
      "cell_type": "code",
      "source": [
        "sample = df['document'].iloc[0]\n",
        "print(sample)\n",
        "tokenizer(sample)"
      ],
      "metadata": {
        "colab": {
          "base_uri": "https://localhost:8080/"
        },
        "id": "W396SO8O1ZUD",
        "outputId": "2c91685a-6101-4fde-83fd-0be09b0cf916"
      },
      "execution_count": 126,
      "outputs": [
        {
          "output_type": "stream",
          "name": "stdout",
          "text": [
            "아 더빙.. 진짜 짜증나네요 목소리\n"
          ]
        },
        {
          "output_type": "execute_result",
          "data": {
            "text/plain": [
              "[51, 1, 5, 10485, 1064]"
            ]
          },
          "metadata": {},
          "execution_count": 126
        }
      ]
    },
    {
      "cell_type": "code",
      "source": [
        "token_length_list = []\n",
        "for sample in df['document']:\n",
        "    token_length_list.append(len(tokenizer(sample)))\n",
        "\n",
        "print(max(token_length_list))"
      ],
      "metadata": {
        "colab": {
          "base_uri": "https://localhost:8080/"
        },
        "id": "qMXQnpFi1aws",
        "outputId": "d95203e0-4341-4959-a7e8-87090cd5d2d5"
      },
      "execution_count": 127,
      "outputs": [
        {
          "output_type": "stream",
          "name": "stdout",
          "text": [
            "41\n"
          ]
        }
      ]
    },
    {
      "cell_type": "code",
      "source": [
        "tokenizer = Tokenizer(vocabs, use_padding=True, max_padding=50, pad_token='[PAD]', unk_token='[UNK]')"
      ],
      "metadata": {
        "id": "ShfxiQYv1yhk"
      },
      "execution_count": 128,
      "outputs": []
    },
    {
      "cell_type": "markdown",
      "source": [
        "# DataLoader"
      ],
      "metadata": {
        "id": "WGdu8trE2FO3"
      }
    },
    {
      "cell_type": "code",
      "source": [
        "import torch\n",
        "from torch.utils.data import Dataset, DataLoader"
      ],
      "metadata": {
        "id": "NEPu6W5t197R"
      },
      "execution_count": 129,
      "outputs": []
    },
    {
      "cell_type": "code",
      "source": [
        "# Split data into train, valid, testset\n",
        "\n",
        "train_valid_df = pd.read_csv(\"/content/drive/MyDrive/Colab_Notebooks/NLP/data/ratings_train.txt\", sep='\\t')\n",
        "test_df = pd.read_csv(\"/content/drive/MyDrive/Colab_Notebooks/NLP/data/ratings_test.txt\", sep='\\t')"
      ],
      "metadata": {
        "id": "w3alLcao2Kdb"
      },
      "execution_count": 130,
      "outputs": []
    },
    {
      "cell_type": "code",
      "source": [
        "print(f\"# of train valid samples: {len(train_valid_df)}\")\n",
        "print(f\"# of test samples: {len(test_df)}\")"
      ],
      "metadata": {
        "colab": {
          "base_uri": "https://localhost:8080/"
        },
        "id": "gKaY_jyj2LW0",
        "outputId": "6456d57e-9ee0-4110-f70d-fe3f20f9daaa"
      },
      "execution_count": 131,
      "outputs": [
        {
          "output_type": "stream",
          "name": "stdout",
          "text": [
            "# of train valid samples: 150000\n",
            "# of test samples: 50000\n"
          ]
        }
      ]
    },
    {
      "cell_type": "code",
      "source": [
        "train_valid_df = train_valid_df.sample(frac=1.)"
      ],
      "metadata": {
        "id": "RVDyOIGt2TG3"
      },
      "execution_count": 132,
      "outputs": []
    },
    {
      "cell_type": "code",
      "source": [
        "train_ratio = 0.8\n",
        "\n",
        "n_train = int(len(train_valid_df) * train_ratio)\n",
        "\n",
        "train_df = train_valid_df[:n_train]\n",
        "valid_df = train_valid_df[n_train:]"
      ],
      "metadata": {
        "id": "21zvA9lZ2VP1"
      },
      "execution_count": 133,
      "outputs": []
    },
    {
      "cell_type": "code",
      "source": [
        "print(f\"# of train samples: {len(train_df)}\")\n",
        "print(f\"# of train samples: {len(valid_df)}\")\n",
        "print(f\"# of test samples: {len(test_df)}\")"
      ],
      "metadata": {
        "colab": {
          "base_uri": "https://localhost:8080/"
        },
        "id": "Iyxx40sX2WTL",
        "outputId": "f70c4158-3b9f-4aed-8414-0d8bb6b3148d"
      },
      "execution_count": 134,
      "outputs": [
        {
          "output_type": "stream",
          "name": "stdout",
          "text": [
            "# of train samples: 120000\n",
            "# of train samples: 30000\n",
            "# of test samples: 50000\n"
          ]
        }
      ]
    },
    {
      "cell_type": "code",
      "source": [
        "# 1/10으로 샘플링\n",
        "\n",
        "train_df = train_df.sample(frac=0.1)\n",
        "valid_df = valid_df.sample(frac=0.1)\n",
        "test_df = test_df.sample(frac=0.1)"
      ],
      "metadata": {
        "id": "SjYWCXQ82ehs"
      },
      "execution_count": 135,
      "outputs": []
    },
    {
      "cell_type": "code",
      "source": [
        "class NSMCDataset(Dataset):\n",
        "    \n",
        "    def __init__(self, data_df, tokenizer=None):\n",
        "        self.data_df = data_df\n",
        "        self.tokenizer = tokenizer\n",
        "        \n",
        "    \n",
        "    def __len__(self):\n",
        "        return len(self.data_df)\n",
        "    \n",
        "    def __getitem__(self, idx):\n",
        "        sample_raw = self.data_df.iloc[idx]\n",
        "        sample = {}\n",
        "        \n",
        "        sample['doc'] = str(sample_raw['document'])\n",
        "        sample['label'] = int(sample_raw['label'])\n",
        "        \n",
        "        assert sample['label'] in set([0, 1])\n",
        "        \n",
        "        if self.tokenizer is not None:\n",
        "            sample['doc_ids'] = self.tokenizer(sample['doc']) \n",
        "        \n",
        "        return sample        "
      ],
      "metadata": {
        "id": "94q6Gcnm2gFX"
      },
      "execution_count": 136,
      "outputs": []
    },
    {
      "cell_type": "code",
      "source": [
        "def collate_fn(batch):\n",
        "    keys = [key for key in batch[0].keys()]\n",
        "    data = {key: [] for key in keys}\n",
        "\n",
        "    for item in batch:\n",
        "        for key in keys:\n",
        "            data[key].append(item[key])\n",
        "    return data"
      ],
      "metadata": {
        "id": "e0LVQGg12jBB"
      },
      "execution_count": 137,
      "outputs": []
    },
    {
      "cell_type": "code",
      "source": [
        "train_dataset = NSMCDataset(data_df=train_df, tokenizer=tokenizer)\n",
        "valid_dataset = NSMCDataset(data_df=valid_df, tokenizer=tokenizer)\n",
        "test_dataset = NSMCDataset(data_df=test_df, tokenizer=tokenizer)\n",
        "\n",
        "# 학습 데이터셋은 shuffle을 해줘야함\n",
        "train_dataloader= DataLoader(train_dataset,\n",
        "                             batch_size=64,\n",
        "                             collate_fn=collate_fn,\n",
        "                             shuffle=True)\n",
        "\n",
        "valid_dataloader= DataLoader(valid_dataset,\n",
        "                             batch_size=64,\n",
        "                             collate_fn=collate_fn,\n",
        "                             shuffle=False)\n",
        "\n",
        "test_dataloader= DataLoader(test_dataset,\n",
        "                            batch_size=64,\n",
        "                            collate_fn=collate_fn,\n",
        "                            shuffle=False)"
      ],
      "metadata": {
        "id": "WTiWFT6Y3JIE"
      },
      "execution_count": 138,
      "outputs": []
    },
    {
      "cell_type": "code",
      "source": [
        "sample = next(iter(test_dataloader))"
      ],
      "metadata": {
        "id": "J3VmxGP043lz"
      },
      "execution_count": 139,
      "outputs": []
    },
    {
      "cell_type": "markdown",
      "source": [],
      "metadata": {
        "id": "N6_5h5as5kT5"
      }
    },
    {
      "cell_type": "code",
      "source": [
        "print(sample.keys())\n",
        "sample['doc'][:10]"
      ],
      "metadata": {
        "colab": {
          "base_uri": "https://localhost:8080/"
        },
        "id": "_bIwC8Eb45Ph",
        "outputId": "971e478e-4c3c-43b9-804a-d1bdaa126956"
      },
      "execution_count": 140,
      "outputs": [
        {
          "output_type": "stream",
          "name": "stdout",
          "text": [
            "dict_keys(['doc', 'label', 'doc_ids'])\n"
          ]
        },
        {
          "output_type": "execute_result",
          "data": {
            "text/plain": [
              "['내가 데스티네이션 시리즈 중 제일 재미없게 본게 2,4인데..같은 감독이었더라ㅡㅡ',\n",
              " '컴퓨터 그래픽 수준이 파워포스 레인져 수준 ㅋㅋㅋ황당하네',\n",
              " '야한장면 보다도 충격적인 결말이 훨씬 더 인상적이다. 브레야 감독 작품 중엔 가장 재미있고 대중적인 영화라고 생각함.',\n",
              " '그것이 바로 슈타인즈 게이트의 선택이다. 엘 프사이 콩그루',\n",
              " '영화춘향전을 고발한다. 연예가중계에서 정사신을 강요하며 욕하는 정일성촬영감독과 수치심에 울고 정사진을 소스라치며 거부하는 여자주인공의 영상을 봤다. 그리고 그상황을 고개돌려 외면하는 임권택감독. 16살 청소년에게 18금정사신을 찍게한 명백한 범죄다.',\n",
              " '마지막에 가스폭발하고 유리창 깨지면서 덥치는 장면 압권...',\n",
              " '액션영화로 기대하지말고 스릴러영화라 생각하고 보면 괜찮은 영화인듯^^',\n",
              " '편집이 볼만하다',\n",
              " '그래 이 영화가 높은 평점을 받을수없는건 이걸보고 불쾌감을 느낀 위선자들 때문이겠지 그 평점이 니들 클라스다 위선자들아',\n",
              " '멍청한 감독과 멍청한 배우가 만나면?']"
            ]
          },
          "metadata": {},
          "execution_count": 140
        }
      ]
    },
    {
      "cell_type": "markdown",
      "source": [
        "# Self-attention model"
      ],
      "metadata": {
        "id": "xE-UyjSs6kXx"
      }
    },
    {
      "cell_type": "code",
      "source": [
        "import math\n",
        "import torch\n",
        "import torch.nn as nn\n",
        "import torch.nn.functional as F\n",
        "\n",
        "\n",
        "class SelfAttention(nn.Module):\n",
        "\n",
        "    def __init__(self,\n",
        "                 vocab_size,\n",
        "                 embed_dim):\n",
        "        \"\"\"\n",
        "        Args:\n",
        "            vocab_size (int): size of vocabulary.\n",
        "            embed_dim (int): dimension of embedding.\n",
        "        \"\"\"\n",
        "        super().__init__()\n",
        "        self.vocab_size = vocab_size\n",
        "        self.embed_dim = embed_dim\n",
        "        self.output_dim = embed_dim\n",
        "\n",
        "        self.embeddings = nn.Embedding(vocab_size, embed_dim, padding_idx=0)\n",
        "\n",
        "        self.q_linear = nn.Linear(embed_dim, embed_dim)\n",
        "        self.k_linear = nn.Linear(embed_dim, embed_dim)\n",
        "        self.v_linear = nn.Linear(embed_dim, embed_dim)\n",
        "\n",
        "    def forward(self, X, return_attention_score=False):\n",
        "        \"\"\"Feed-forward Self attention.\n",
        "        Args:\n",
        "            X (torch.Tensor): inputs, shape of (batch_size, seq_len).\n",
        "        Returns:\n",
        "            torch.tensor, Sentence representation.\n",
        "        \"\"\"\n",
        "        batch_size, seq_len = X.size()\n",
        "        X = self.embeddings(X) # batch size x seq_len x embed_dim\n",
        "         \n",
        "        q, k, v = self.q_linear(X), self.k_linear(X), self.v_linear(X) # batch_size x seq_len x embed_dim\n",
        "        \n",
        "        attention_score_raw = q @ k.transpose(1, 2) / math.sqrt(self.embed_dim) # batch_size x seq_len x seq_len\n",
        "        \n",
        "        attention_score = torch.softmax(attention_score_raw, dim=2) # batch_size x seq_len x seq_len\n",
        "        \n",
        "        weighted_sum = attention_score @ v # batch_size x seq_len x dim\n",
        "\n",
        "        context = torch.mean(weighted_sum, dim=1) # self attention된 임베딩들을 average\n",
        "        \n",
        "        if return_attention_score:\n",
        "            return context, attention_score\n",
        "        return context\n",
        "    \n",
        "        "
      ],
      "metadata": {
        "id": "_S69Uv_X5ley"
      },
      "execution_count": 141,
      "outputs": []
    },
    {
      "cell_type": "code",
      "source": [
        "model = SelfAttention(len(vocabs), 16)\n",
        "sample = next(iter(train_dataloader))\n",
        "x = torch.tensor(sample['doc_ids'])\n",
        "print('x shape: ', x.shape)\n",
        "print('zero index value ',x[0])\n",
        "pred = model(x)\n",
        "print('pred shape: ', pred.shape)"
      ],
      "metadata": {
        "colab": {
          "base_uri": "https://localhost:8080/"
        },
        "id": "op05pLIV6t_A",
        "outputId": "3d6c1cde-c975-4b0a-9adf-e34213e10e67"
      },
      "execution_count": 142,
      "outputs": [
        {
          "output_type": "stream",
          "name": "stdout",
          "text": [
            "x shape:  torch.Size([64, 50])\n",
            "zero index value  tensor([26031,   142,  6492,     0,     0,     0,     0,     0,     0,     0,\n",
            "            0,     0,     0,     0,     0,     0,     0,     0,     0,     0,\n",
            "            0,     0,     0,     0,     0,     0,     0,     0,     0,     0,\n",
            "            0,     0,     0,     0,     0,     0,     0,     0,     0,     0,\n",
            "            0,     0,     0,     0,     0,     0,     0,     0,     0,     0])\n",
            "pred shape:  torch.Size([64, 16])\n"
          ]
        }
      ]
    },
    {
      "cell_type": "code",
      "source": [
        "class Classifier(nn.Module):\n",
        "    \"\"\"A classifier, arbitary graph, on the top of sentence representation.\n",
        "    Attributes:\n",
        "        sr_model: A sentence representation module.\n",
        "        input_dim: Input dimension of the classifier. Input_dim is set with sr_model output.\n",
        "        output_dim: Output dimension of the model.\n",
        "    \"\"\"\n",
        "    def __init__(self, sr_model, output_dim, vocab_size, embed_dim, **kwargs):\n",
        "        \"\"\"Initialization of the classifier.\n",
        "        \n",
        "        Args:\n",
        "            sr_model (torch.nn.Module): A sentence representation module.\n",
        "            output_dim (int): Output dimension of the model.\n",
        "            vocab_size (int): The size of vocabulary.\n",
        "            embed_dim (int): The word embedding dimension.\n",
        "        \"\"\"\n",
        "        super().__init__()\n",
        "\n",
        "        self.sr_model = sr_model(vocab_size=vocab_size,\n",
        "                                 embed_dim=embed_dim,\n",
        "                                 **kwargs)\n",
        "\n",
        "        self.input_dim = self.sr_model.output_dim\n",
        "        self.output_dim = output_dim\n",
        "        self.fc = nn.Linear(self.input_dim, self.output_dim)\n",
        "\n",
        "    def forward(self, x):\n",
        "        return self.fc(self.sr_model(x))"
      ],
      "metadata": {
        "id": "Re7y5csAEE3F"
      },
      "execution_count": 143,
      "outputs": []
    },
    {
      "cell_type": "code",
      "source": [
        "model = Classifier(sr_model=SelfAttention,\n",
        "                   output_dim=2,\n",
        "                   vocab_size=len(vocabs),\n",
        "                   embed_dim=16)"
      ],
      "metadata": {
        "id": "dtr_GRUQHKrr"
      },
      "execution_count": 144,
      "outputs": []
    },
    {
      "cell_type": "code",
      "source": [
        "# nn.Embedding(vocab_size, embed_dim, padding_idx=0)\n",
        "# padding_idx를 설정해놓으면,\n",
        "# padding_idx의 embedding은 0으로 초기화\n",
        "# padding index의 embedding은 gradient 계산을 하지 않음, 즉 padding embedding은 업데이트 되지 않음\n",
        "\n",
        "model.sr_model.embeddings.weight[0]"
      ],
      "metadata": {
        "colab": {
          "base_uri": "https://localhost:8080/"
        },
        "id": "JzVJ47_DHiSf",
        "outputId": "fb5926ff-fcef-4aeb-cc2c-b412ea4e6e97"
      },
      "execution_count": 145,
      "outputs": [
        {
          "output_type": "execute_result",
          "data": {
            "text/plain": [
              "tensor([0., 0., 0., 0., 0., 0., 0., 0., 0., 0., 0., 0., 0., 0., 0., 0.],\n",
              "       grad_fn=<SelectBackward0>)"
            ]
          },
          "metadata": {},
          "execution_count": 145
        }
      ]
    },
    {
      "cell_type": "markdown",
      "source": [
        "# Training"
      ],
      "metadata": {
        "id": "wh1I_ScuHoCs"
      }
    },
    {
      "cell_type": "code",
      "source": [
        "use_cuda = True and torch.cuda.is_available()\n",
        "\n",
        "if use_cuda:\n",
        "    model.cuda()"
      ],
      "metadata": {
        "id": "Uiw3jnsgHpOJ"
      },
      "execution_count": 146,
      "outputs": []
    },
    {
      "cell_type": "code",
      "source": [
        "import torch.optim as optim\n",
        "import numpy as np\n",
        "from copy import deepcopy"
      ],
      "metadata": {
        "id": "gmCQW2mkH0FG"
      },
      "execution_count": 147,
      "outputs": []
    },
    {
      "cell_type": "code",
      "source": [
        "optimizer = optim.Adam(params=model.parameters(), lr=0.01)\n",
        "calc_loss = nn.CrossEntropyLoss()"
      ],
      "metadata": {
        "id": "uwxYDo3IH1AP"
      },
      "execution_count": 148,
      "outputs": []
    },
    {
      "cell_type": "code",
      "source": [
        "n_epoch = 5\n",
        "global_i = 0\n",
        "\n",
        "valid_loss_history = [] # [(global_i, valid_loss), ...]\n",
        "train_loss_history = [] # [(global_i, train_loss), ...]\n",
        "\n",
        "min_valid_loss = 9e+9\n",
        "best_model = None\n",
        "best_epoch_i = None\n",
        "\n",
        "for epoch_i in range(n_epoch):\n",
        "    model.train()\n",
        "    \n",
        "    for batch in train_dataloader:\n",
        "        optimizer.zero_grad()\n",
        "        x = torch.tensor(batch['doc_ids'])\n",
        "        y = torch.tensor(batch['label'])\n",
        "\n",
        "        if use_cuda:\n",
        "            x = x.cuda()\n",
        "            y = y.cuda()\n",
        "\n",
        "        y_pred = model(x)\n",
        "        loss = calc_loss(y_pred, y)\n",
        "\n",
        "        if global_i % 1000 == 0:\n",
        "            print(f\"global_i: {global_i}, epoch_i: {epoch_i}, loss: {loss.item()}\")\n",
        "            \n",
        "        train_loss_history.append((global_i, loss.item()))\n",
        "            \n",
        "        loss.backward()\n",
        "        optimizer.step()\n",
        "            \n",
        "        global_i += 1\n",
        "    # validation\n",
        "    model.eval()\n",
        "    valid_loss_list = []\n",
        "    for batch in valid_dataloader:\n",
        "        x = torch.tensor(batch['doc_ids'])\n",
        "        y = torch.tensor(batch['label'])\n",
        "\n",
        "        if use_cuda:\n",
        "            x = x.cuda()\n",
        "            y = y.cuda()\n",
        "        y_pred = model(x)\n",
        "        loss = calc_loss(y_pred, y)\n",
        "        valid_loss_list.append(loss.item())\n",
        "\n",
        "\n",
        "    valid_loss_mean = np.mean(valid_loss_list)\n",
        "    valid_loss_history.append((global_i, valid_loss_mean.item()))\n",
        "\n",
        "\n",
        "    if valid_loss_mean < min_valid_loss:\n",
        "        min_valid_loss = valid_loss_mean\n",
        "        best_epoch_i = epoch_i\n",
        "        best_model = deepcopy(model)\n",
        "\n",
        "    if epoch_i % 1 == 0:\n",
        "        print(\"*\"*30)\n",
        "        print(f\"valid_loss_mean: {valid_loss_mean}\")\n",
        "        print(\"*\"*30)\n",
        "    \n",
        "print(f\"best_epoch_i: {best_epoch_i}, best_global_i: {global_i}\")"
      ],
      "metadata": {
        "colab": {
          "base_uri": "https://localhost:8080/"
        },
        "id": "mHk7po2uH16s",
        "outputId": "bd17890d-c28b-4956-ad7f-39d3bc474f3b"
      },
      "execution_count": 149,
      "outputs": [
        {
          "output_type": "stream",
          "name": "stdout",
          "text": [
            "global_i: 0, epoch_i: 0, loss: 0.693378210067749\n",
            "******************************\n",
            "valid_loss_mean: 0.6060351704029326\n",
            "******************************\n",
            "******************************\n",
            "valid_loss_mean: 0.5988255339734098\n",
            "******************************\n",
            "******************************\n",
            "valid_loss_mean: 0.6721749952498902\n",
            "******************************\n",
            "******************************\n",
            "valid_loss_mean: 0.8426426813957539\n",
            "******************************\n",
            "******************************\n",
            "valid_loss_mean: 1.0403972420286625\n",
            "******************************\n",
            "best_epoch_i: 1, best_global_i: 940\n"
          ]
        }
      ]
    },
    {
      "cell_type": "markdown",
      "source": [
        "# Learning Curve"
      ],
      "metadata": {
        "id": "_rErtk5lIKsb"
      }
    },
    {
      "cell_type": "code",
      "source": [
        "def calc_moving_average(arr, win_size=100):\n",
        "    new_arr = []\n",
        "    win = []\n",
        "    \n",
        "    for i, val in enumerate(arr):\n",
        "        win.append(val)\n",
        "        if len(win) > win_size:\n",
        "            win.pop(0)\n",
        "        \n",
        "        new_arr.append(np.mean(win))\n",
        "    return np.array(new_arr)"
      ],
      "metadata": {
        "id": "hgwbeAnZH_GD"
      },
      "execution_count": 150,
      "outputs": []
    },
    {
      "cell_type": "code",
      "source": [
        "valid_loss_history = np.array(valid_loss_history)\n",
        "train_loss_history =  np.array(train_loss_history)\n",
        "\n",
        "plt.figure(figsize=(12,8))\n",
        "plt.plot(train_loss_history[:,0],\n",
        "         calc_moving_average(train_loss_history[:,1]), color='blue')\n",
        "\n",
        "plt.plot(valid_loss_history[:,0],\n",
        "         valid_loss_history[:,1], color='red')\n",
        "plt.legend(['train','test'])\n",
        "plt.xlabel(\"step\")\n",
        "plt.ylabel(\"loss\")"
      ],
      "metadata": {
        "colab": {
          "base_uri": "https://localhost:8080/",
          "height": 514
        },
        "id": "R2jHpGgRIQzT",
        "outputId": "6424f758-67ab-4a90-a275-7afa15abff82"
      },
      "execution_count": 151,
      "outputs": [
        {
          "output_type": "execute_result",
          "data": {
            "text/plain": [
              "Text(0, 0.5, 'loss')"
            ]
          },
          "metadata": {},
          "execution_count": 151
        },
        {
          "output_type": "display_data",
          "data": {
            "text/plain": [
              "<Figure size 864x576 with 1 Axes>"
            ],
            "image/png": "[encoded data removed]"
          },
          "metadata": {
            "needs_background": "light"
          }
        }
      ]
    },
    {
      "cell_type": "markdown",
      "source": [
        "# Evaluation"
      ],
      "metadata": {
        "id": "po3yvKNjJDcK"
      }
    },
    {
      "cell_type": "code",
      "source": [
        "from tqdm.auto import tqdm"
      ],
      "metadata": {
        "id": "2EMMDjN7IRm9"
      },
      "execution_count": 152,
      "outputs": []
    },
    {
      "cell_type": "code",
      "source": [
        "model = best_model\n",
        "\n",
        "model.eval()\n",
        "\n",
        "total = 0\n",
        "correct = 0\n",
        "for batch in tqdm(test_dataloader,\n",
        "                  total=len(test_dataloader.dataset)//test_dataloader.batch_size):\n",
        "    x = torch.tensor(batch['doc_ids'])\n",
        "    y = torch.tensor(batch['label'])\n",
        "    \n",
        "    if use_cuda:\n",
        "        x = x.cuda()\n",
        "        y = y.cuda()\n",
        "\n",
        "    y_pred = model(x)\n",
        "    \n",
        "    curr_correct = y_pred.argmax(dim=1) == y\n",
        "    \n",
        "    total += len(curr_correct)\n",
        "    correct += sum(curr_correct)\n",
        "print(f\"test accuracy: {correct/total}\")"
      ],
      "metadata": {
        "colab": {
          "base_uri": "https://localhost:8080/",
          "height": 66,
          "referenced_widgets": [
            "3f2e1dec907146bdb3440a503e21b71d",
            "4deb20f301eb41b5960fab65859ba751",
            "71301e68a0c144248e27cb06d1524fd1",
            "f46c45923e3d42ec89642f9cce356168",
            "edc21ad46d3a40e299876eee01336969",
            "e4075c0a6f08469a86e76837b70a16d9",
            "410aaaafa851459eae794e52fdb53dbb",
            "5f8678e9bd4d4e8e8db94abd1a7021fd",
            "7ac078c53eb4451bb4aded7ab3226f24",
            "5c293e522c1e405baa73e1db2d33a90c",
            "c91472237f4743b68d389b43ce975746"
          ]
        },
        "id": "LjA6h2gJJEi_",
        "outputId": "aafbb192-d89d-45e3-92b5-a4e41de7c634"
      },
      "execution_count": 153,
      "outputs": [
        {
          "output_type": "display_data",
          "data": {
            "text/plain": [
              "  0%|          | 0/78 [00:00<?, ?it/s]"
            ],
            "application/vnd.jupyter.widget-view+json": {
              "version_major": 2,
              "version_minor": 0,
              "model_id": "3f2e1dec907146bdb3440a503e21b71d"
            }
          },
          "metadata": {}
        },
        {
          "output_type": "stream",
          "name": "stdout",
          "text": [
            "test accuracy: 0.6990000009536743\n"
          ]
        }
      ]
    },
    {
      "cell_type": "markdown",
      "source": [
        "# Visualize Attention"
      ],
      "metadata": {
        "id": "6upowlZAJQco"
      }
    },
    {
      "cell_type": "code",
      "source": [
        "sample = df['document'].iloc[14]\n",
        "print(sample)"
      ],
      "metadata": {
        "colab": {
          "base_uri": "https://localhost:8080/"
        },
        "id": "6F6ZA8iSJJl0",
        "outputId": "7299409b-f268-46d2-ac4e-50271a60da88"
      },
      "execution_count": 154,
      "outputs": [
        {
          "output_type": "stream",
          "name": "stdout",
          "text": [
            "취향은 존중한다지만 진짜 내생에 극장에서 본 영화중 가장 노잼 노감동임 스토리도 어거지고 감동도 어거지\n"
          ]
        }
      ]
    },
    {
      "cell_type": "code",
      "source": [
        "tokenizer.use_padding = False\n",
        "token_ids = tokenizer(sample)"
      ],
      "metadata": {
        "id": "pdNDMtUDJYpc"
      },
      "execution_count": 155,
      "outputs": []
    },
    {
      "cell_type": "code",
      "source": [
        "token_ids = torch.tensor(token_ids)\n",
        "if use_cuda:\n",
        "    token_ids = token_ids.cuda()"
      ],
      "metadata": {
        "id": "fht3ndRrJZgR"
      },
      "execution_count": 156,
      "outputs": []
    },
    {
      "cell_type": "code",
      "source": [
        "token_list = [idx_to_token[token_idx] for token_idx in token_ids]"
      ],
      "metadata": {
        "id": "FVNmP41EJaTK"
      },
      "execution_count": 157,
      "outputs": []
    },
    {
      "cell_type": "code",
      "source": [
        "list(zip(token_list, token_ids))"
      ],
      "metadata": {
        "colab": {
          "base_uri": "https://localhost:8080/"
        },
        "id": "1N0vtFTCJbLo",
        "outputId": "cfa673de-4c05-4849-c02f-43ef126b6162"
      },
      "execution_count": 158,
      "outputs": [
        {
          "output_type": "execute_result",
          "data": {
            "text/plain": [
              "[('취향은', tensor(3213, device='cuda:0')),\n",
              " ('[UNK]', tensor(1, device='cuda:0')),\n",
              " ('진짜', tensor(5, device='cuda:0')),\n",
              " ('내생에', tensor(1742, device='cuda:0')),\n",
              " ('극장에서', tensor(215, device='cuda:0')),\n",
              " ('본', tensor(21, device='cuda:0')),\n",
              " ('영화중', tensor(257, device='cuda:0')),\n",
              " ('가장', tensor(54, device='cuda:0')),\n",
              " ('노잼', tensor(543, device='cuda:0')),\n",
              " ('[UNK]', tensor(1, device='cuda:0')),\n",
              " ('스토리도', tensor(132, device='cuda:0')),\n",
              " ('[UNK]', tensor(1, device='cuda:0')),\n",
              " ('감동도', tensor(287, device='cuda:0')),\n",
              " ('어거지', tensor(4777, device='cuda:0'))]"
            ]
          },
          "metadata": {},
          "execution_count": 158
        }
      ]
    },
    {
      "cell_type": "code",
      "source": [
        "token_ids.reshape(1,-1).shape"
      ],
      "metadata": {
        "colab": {
          "base_uri": "https://localhost:8080/"
        },
        "id": "zbMiudxNKIHz",
        "outputId": "d483a2c3-471c-45cf-87f5-1f805ca5d3c2"
      },
      "execution_count": 159,
      "outputs": [
        {
          "output_type": "execute_result",
          "data": {
            "text/plain": [
              "torch.Size([1, 14])"
            ]
          },
          "metadata": {},
          "execution_count": 159
        }
      ]
    },
    {
      "cell_type": "code",
      "source": [
        "# Attention score 계산\n",
        "_, attention_score = model.sr_model(token_ids.reshape(1,-1), return_attention_score=True)"
      ],
      "metadata": {
        "id": "r3-w9WcLJcIq"
      },
      "execution_count": 160,
      "outputs": []
    },
    {
      "cell_type": "code",
      "source": [
        "attention_score_np = attention_score.squeeze(0).detach().cpu().numpy()"
      ],
      "metadata": {
        "id": "OCgvjSD0Jdi5"
      },
      "execution_count": 161,
      "outputs": []
    },
    {
      "cell_type": "code",
      "source": [
        "import seaborn as sns\n",
        "\n",
        "plt.figure(figsize=(12,8))\n",
        "attn_vis = sns.heatmap(attention_score_np, xticklabels=token_list, yticklabels=token_list)\n",
        "_ = attn_vis.set_xticklabels(attn_vis.get_xticklabels(), rotation=45)"
      ],
      "metadata": {
        "colab": {
          "base_uri": "https://localhost:8080/",
          "height": 508
        },
        "id": "XVfySw2VKj_g",
        "outputId": "43c7a88d-cd28-493d-bb41-9d6ac56e5640"
      },
      "execution_count": 162,
      "outputs": [
        {
          "output_type": "display_data",
          "data": {
            "text/plain": [
              "<Figure size 864x576 with 2 Axes>"
            ],
            "image/png": "[encoded data removed]"
          },
          "metadata": {
            "needs_background": "light"
          }
        }
      ]
    },
    {
      "cell_type": "code",
      "source": [],
      "metadata": {
        "id": "rUgWpzfvK6mJ"
      },
      "execution_count": 162,
      "outputs": []
    }
  ]
}